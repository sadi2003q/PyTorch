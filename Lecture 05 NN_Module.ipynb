{
  "cells": [
    {
      "cell_type": "code",
      "source": [
        "import pandas as pd\n",
        "import numpy as np"
      ],
      "metadata": {
        "id": "I1rppwJktU3s"
      },
      "execution_count": 104,
      "outputs": []
    },
    {
      "cell_type": "markdown",
      "source": [
        "# Dataset Loading"
      ],
      "metadata": {
        "id": "UNCDx-jbxMuq"
      }
    },
    {
      "cell_type": "code",
      "source": [
        "df = pd.read_csv('https://raw.githubusercontent.com/gscdit/Breast-Cancer-Detection/refs/heads/master/data.csv')"
      ],
      "metadata": {
        "id": "eoXcfbIZw2tM"
      },
      "execution_count": 105,
      "outputs": []
    },
    {
      "cell_type": "markdown",
      "source": [
        "# Splitting, Column removing and Encoding"
      ],
      "metadata": {
        "id": "--I0DQpKxPsc"
      }
    },
    {
      "cell_type": "code",
      "source": [
        "from sklearn.model_selection import train_test_split as split\n",
        "from sklearn.preprocessing import LabelEncoder, StandardScaler\n",
        "X = df.drop(['diagnosis','Unnamed: 32'],axis=1)\n",
        "y = df['diagnosis']\n",
        "\n",
        "train_x, test_x, train_y, test_y = split(X,y,test_size=0.2, random_state = 42)\n",
        "\n",
        "scaler = StandardScaler()\n",
        "train_x = scaler.fit_transform(train_x)\n",
        "test_x = scaler.fit_transform(test_x)\n",
        "\n",
        "encoder = LabelEncoder()\n",
        "train_y = encoder.fit_transform(train_y)\n",
        "test_y = encoder.fit_transform(test_y)"
      ],
      "metadata": {
        "id": "D6EExSkJxI11"
      },
      "execution_count": 106,
      "outputs": []
    },
    {
      "cell_type": "markdown",
      "source": [
        "# Converting into Torch"
      ],
      "metadata": {
        "id": "MTgOvO8l0r-j"
      }
    },
    {
      "cell_type": "code",
      "source": [
        "import torch\n",
        "\n",
        "# converting into numpy array\n",
        "# train_x = train_x.to_numpy()\n",
        "# test_x = test_x.to_numpy()\n",
        "\n",
        "#converting into torch\n",
        "train_x = torch.from_numpy(train_x.astype(np.float32))\n",
        "test_x = torch.from_numpy(test_x.astype(np.float32))\n",
        "test_y = torch.from_numpy(test_y.astype(np.float32))\n",
        "train_y = torch.from_numpy(train_y.astype(np.float32))"
      ],
      "metadata": {
        "id": "wSran7M20uNV"
      },
      "execution_count": 107,
      "outputs": []
    },
    {
      "cell_type": "markdown",
      "source": [
        "# Model Building"
      ],
      "metadata": {
        "id": "VYgyKSI-xjfR"
      }
    },
    {
      "cell_type": "code",
      "source": [
        "import torch.nn as nn"
      ],
      "metadata": {
        "id": "t2QuJnEXxi1a"
      },
      "execution_count": 108,
      "outputs": []
    },
    {
      "cell_type": "code",
      "source": [
        "import torch.nn as nn\n",
        "\n",
        "class MyModel(nn.Module):\n",
        "\n",
        "    def __init__(self, num_features):\n",
        "        super().__init__()\n",
        "        \"\"\"\n",
        "        # Singe layer\n",
        "        self.linear = nn.Linear(num_features, 32)\n",
        "        self.sigmoid = nn.ReLU()\n",
        "\n",
        "        # Hidden Layer 1\n",
        "        self.layer2 = nn.Linear(32, 16)\n",
        "        self.sigmoid2 = nn.ReLU()\n",
        "\n",
        "        # Hidden Layer 2\n",
        "        self.layer3 = nn.Linear(16, 8)\n",
        "        self.sigmoid3 = nn.ReLU()\n",
        "\n",
        "        # Hiddel layer 3\n",
        "        self.layer4 = nn.Linear(8, 4)\n",
        "        self.sigmoid4 = nn.ReLU()\n",
        "\n",
        "        # Output Layer\n",
        "        self.output = nn.Linear(4, 1)\n",
        "        self.sigmoid5 = nn.Sigmoid()\n",
        "        \"\"\"\n",
        "        self.network = nn.Sequential(\n",
        "\n",
        "            # Singe layer\n",
        "            nn.Linear(num_features, 32),\n",
        "            nn.ReLU(),\n",
        "\n",
        "            # Hidden Layer 1\n",
        "            nn.Linear(32, 16),\n",
        "            nn.ReLU(),\n",
        "\n",
        "            # Hidden Layer 2\n",
        "            nn.Linear(16, 8),\n",
        "            nn.ReLU(),\n",
        "\n",
        "            # Hiddel layer 3\n",
        "            nn.Linear(8, 4),\n",
        "            nn.ReLU(),\n",
        "\n",
        "            # Output Layer\n",
        "            nn.Linear(4, 1),\n",
        "            nn.Sigmoid(),\n",
        "        )\n",
        "\n",
        "    def forward(self, x): # Ensure this line has the same indentation level as the __init__ method\n",
        "        return self.network(x) # Ensure this line is indented correctly within the forward method"
      ],
      "metadata": {
        "id": "iv-WP6QJyMR5"
      },
      "execution_count": 109,
      "outputs": []
    },
    {
      "cell_type": "code",
      "source": [
        "# defining Parameter\n",
        "learning_rate = 0.1\n",
        "epoch = 25\n",
        "\n",
        "#defining loss function\n",
        "loss_fn = nn.BCELoss()"
      ],
      "metadata": {
        "id": "2-r_R9Zk0ekb"
      },
      "execution_count": 110,
      "outputs": []
    },
    {
      "cell_type": "code",
      "source": [
        "#defining model\n",
        "model = MyModel(train_x.shape[1])\n",
        "\n",
        "#defining optimiser\n",
        "optmiser = torch.optim.SGD(model.parameters(), lr=learning_rate)\n",
        "\n",
        "#defining loop\n",
        "for epoch in range(epoch):\n",
        "\n",
        "  #foreword pass\n",
        "  y_pred = model(train_x)\n",
        "\n",
        "  #loss calculate\n",
        "  loss = loss_fn(y_pred, train_y.view(-1, 1))\n",
        "\n",
        "  #clear gadient\n",
        "  optmiser.zero_grad()\n",
        "\n",
        "  #backward pass\n",
        "  loss.backward()\n",
        "\n",
        "  #update weight\n",
        "  optmiser.step()\n",
        "\n",
        "  # pint loss in each epoch\n",
        "  print(f'Epoch: {epoch+1} Loss: {loss.item()}')"
      ],
      "metadata": {
        "colab": {
          "base_uri": "https://localhost:8080/"
        },
        "id": "fEPuRsJZ3Owd",
        "outputId": "debbef38-9db2-4165-e48d-fa78598b27f9"
      },
      "execution_count": 111,
      "outputs": [
        {
          "output_type": "stream",
          "name": "stdout",
          "text": [
            "Epoch: 1 Loss: 0.7603868842124939\n",
            "Epoch: 2 Loss: 0.7554774284362793\n",
            "Epoch: 3 Loss: 0.750802755355835\n",
            "Epoch: 4 Loss: 0.7463518977165222\n",
            "Epoch: 5 Loss: 0.7421156167984009\n",
            "Epoch: 6 Loss: 0.7380837202072144\n",
            "Epoch: 7 Loss: 0.7342471480369568\n",
            "Epoch: 8 Loss: 0.7305968403816223\n",
            "Epoch: 9 Loss: 0.7271242737770081\n",
            "Epoch: 10 Loss: 0.7238208651542664\n",
            "Epoch: 11 Loss: 0.7206791043281555\n",
            "Epoch: 12 Loss: 0.7176910638809204\n",
            "Epoch: 13 Loss: 0.7148495316505432\n",
            "Epoch: 14 Loss: 0.7121475338935852\n",
            "Epoch: 15 Loss: 0.7095781564712524\n",
            "Epoch: 16 Loss: 0.7071353197097778\n",
            "Epoch: 17 Loss: 0.7048129439353943\n",
            "Epoch: 18 Loss: 0.7026046514511108\n",
            "Epoch: 19 Loss: 0.7005056142807007\n",
            "Epoch: 20 Loss: 0.6985098123550415\n",
            "Epoch: 21 Loss: 0.6966127753257751\n",
            "Epoch: 22 Loss: 0.6948092579841614\n",
            "Epoch: 23 Loss: 0.6930948495864868\n",
            "Epoch: 24 Loss: 0.6914650201797485\n",
            "Epoch: 25 Loss: 0.6899155974388123\n"
          ]
        }
      ]
    },
    {
      "cell_type": "code",
      "source": [
        "# model evaluation\n",
        "with torch.no_grad():\n",
        "  y_pred = model.forward(test_x)\n",
        "  y_pred = (y_pred > 0.5).float()\n",
        "  accuracy = (y_pred == test_y).float().mean()\n",
        "  print(f'Accuracy: {accuracy.item()}')\n"
      ],
      "metadata": {
        "colab": {
          "base_uri": "https://localhost:8080/"
        },
        "id": "c0GUieQm4dy5",
        "outputId": "0e15f6ab-e7f0-4a1e-9b35-5013c7b5d9c4"
      },
      "execution_count": 112,
      "outputs": [
        {
          "output_type": "stream",
          "name": "stdout",
          "text": [
            "Accuracy: 0.6228070259094238\n"
          ]
        }
      ]
    },
    {
      "cell_type": "code",
      "source": [],
      "metadata": {
        "id": "ajuzfCZJ5G1s"
      },
      "execution_count": 112,
      "outputs": []
    }
  ],
  "metadata": {
    "colab": {
      "provenance": []
    },
    "kernelspec": {
      "display_name": "Python 3",
      "name": "python3"
    },
    "language_info": {
      "name": "python"
    }
  },
  "nbformat": 4,
  "nbformat_minor": 0
}