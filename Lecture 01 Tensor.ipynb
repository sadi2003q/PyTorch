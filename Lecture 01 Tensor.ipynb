{
 "nbformat": 4,
 "nbformat_minor": 0,
 "metadata": {
  "colab": {
   "provenance": [],
   "gpuType": "T4"
  },
  "kernelspec": {
   "name": "python3",
   "display_name": "Python 3"
  },
  "language_info": {
   "name": "python"
  },
  "accelerator": "GPU"
 },
 "cells": [
  {
   "cell_type": "code",
   "source": [
    "#Importing Torch\n",
    "import torch"
   ],
   "metadata": {
    "id": "p9FuIuAl8FL7"
   },
   "execution_count": 1,
   "outputs": []
  },
  {
   "cell_type": "code",
   "source": [
    "# Check If I have GPU available or not\n",
    "if torch.cuda.is_available():\n",
    "    print(\"GPU Available\")\n",
    "    print(f\"name : {torch.cuda.get_device_name(0)}\")\n",
    "    print(f\"Memory : {torch.cuda.get_device_properties(0).total_memory}\")\n",
    "else:\n",
    "    print(\"GPU Not Available\")"
   ],
   "metadata": {
    "colab": {
     "base_uri": "https://localhost:8080/"
    },
    "id": "R5RNaZfr8Gwh",
    "outputId": "322c2d7b-eaec-494d-a1db-4e5cf331da0b"
   },
   "execution_count": 2,
   "outputs": [
    {
     "output_type": "stream",
     "name": "stdout",
     "text": [
      "GPU Available\n",
      "name : Tesla T4\n",
      "Memory : 15835660288\n"
     ]
    }
   ]
  },
  {
   "cell_type": "markdown",
   "source": [
    "# Creating Tensor from pytorch"
   ],
   "metadata": {
    "id": "jwQT3yLi9DOD"
   }
  },
  {
   "cell_type": "code",
   "source": [
    "a = torch.empty(2, 3)\n",
    "type(a) # this will show the type "
   ],
   "metadata": {
    "colab": {
     "base_uri": "https://localhost:8080/"
    },
    "id": "PIyfG1qg839v",
    "outputId": "c66e6df3-6f3c-4632-9793-83c595181e8a"
   },
   "execution_count": 3,
   "outputs": [
    {
     "output_type": "execute_result",
     "data": {
      "text/plain": [
       "torch.Tensor"
      ]
     },
     "metadata": {},
     "execution_count": 3
    }
   ]
  },
  {
   "cell_type": "code",
   "source": [
    "torch.zeros(2, 3) # all the values will be zero\n",
    "torch.ones(2, 3) # all the values will be zero"
   ],
   "metadata": {
    "colab": {
     "base_uri": "https://localhost:8080/"
    },
    "id": "ZkMJ47VT9MAQ",
    "outputId": "5ce509a6-ba64-47fb-af88-d5122bde4d0a"
   },
   "execution_count": 4,
   "outputs": [
    {
     "output_type": "execute_result",
     "data": {
      "text/plain": [
       "tensor([[1., 1., 1.],\n",
       "        [1., 1., 1.]])"
      ]
     },
     "metadata": {},
     "execution_count": 4
    }
   ]
  },
  {
   "cell_type": "code",
   "source": [
    "torch.rand(2, 3) # random number between 0 and 1"
   ],
   "metadata": {
    "colab": {
     "base_uri": "https://localhost:8080/"
    },
    "id": "lHPI7kAs9hBG",
    "outputId": "7084e3c1-448d-482a-ab58-f20658e4b9f5"
   },
   "execution_count": 5,
   "outputs": [
    {
     "output_type": "execute_result",
     "data": {
      "text/plain": [
       "tensor([[0.1737, 0.5532, 0.2311],\n",
       "        [0.1187, 0.1508, 0.8626]])"
      ]
     },
     "metadata": {},
     "execution_count": 5
    }
   ]
  },
  {
   "cell_type": "code",
   "source": [
    "torch.manual_seed(100) # this will keep generate same random number\n",
    "torch.rand(2, 3)"
   ],
   "metadata": {
    "colab": {
     "base_uri": "https://localhost:8080/"
    },
    "id": "iVaaFxTl9k2P",
    "outputId": "6b34f4ae-09f0-4898-bf25-0d2be1516f2a"
   },
   "execution_count": 6,
   "outputs": [
    {
     "output_type": "execute_result",
     "data": {
      "text/plain": [
       "tensor([[0.1117, 0.8158, 0.2626],\n",
       "        [0.4839, 0.6765, 0.7539]])"
      ]
     },
     "metadata": {},
     "execution_count": 6
    }
   ]
  },
  {
   "cell_type": "markdown",
   "source": [],
   "metadata": {
    "id": "8-rf6W-A9ysK"
   }
  },
  {
   "cell_type": "code",
   "source": [],
   "metadata": {
    "id": "Lcn2TQrk-Te8"
   },
   "execution_count": 6,
   "outputs": []
  },
  {
   "cell_type": "code",
   "source": [
    "torch.tensor([[1, 2, 3], [4, 5, 6]]) # tensor from specific value"
   ],
   "metadata": {
    "colab": {
     "base_uri": "https://localhost:8080/"
    },
    "id": "Ya6sYLLq-B0e",
    "outputId": "f545ab8e-db65-45a9-b9b5-fc67bb6f9c03"
   },
   "execution_count": 7,
   "outputs": [
    {
     "output_type": "execute_result",
     "data": {
      "text/plain": [
       "tensor([[1, 2, 3],\n",
       "        [4, 5, 6]])"
      ]
     },
     "metadata": {},
     "execution_count": 7
    }
   ]
  },
  {
   "cell_type": "code",
   "source": [
    "torch.arange(0, 10, 2) # tensor value from 0 to <10 and leap will be 2"
   ],
   "metadata": {
    "colab": {
     "base_uri": "https://localhost:8080/"
    },
    "id": "P36u-X0J-Bxn",
    "outputId": "e9519919-73c0-4b69-b25b-8df2c3391109"
   },
   "execution_count": 8,
   "outputs": [
    {
     "output_type": "execute_result",
     "data": {
      "text/plain": [
       "tensor([0, 2, 4, 6, 8])"
      ]
     },
     "metadata": {},
     "execution_count": 8
    }
   ]
  },
  {
   "cell_type": "code",
   "source": [
    "torch.linspace(0, 100, 10) # silimer to arange"
   ],
   "metadata": {
    "colab": {
     "base_uri": "https://localhost:8080/"
    },
    "id": "lNzYi3I0-BvA",
    "outputId": "9716b07f-8956-4a6a-8551-37078daa9d36"
   },
   "execution_count": 9,
   "outputs": [
    {
     "output_type": "execute_result",
     "data": {
      "text/plain": [
       "tensor([  0.0000,  11.1111,  22.2222,  33.3333,  44.4444,  55.5556,  66.6667,\n",
       "         77.7778,  88.8889, 100.0000])"
      ]
     },
     "metadata": {},
     "execution_count": 9
    }
   ]
  },
  {
   "cell_type": "code",
   "source": [
    "torch.eye(5) # return Identity matrix of sie n*n"
   ],
   "metadata": {
    "colab": {
     "base_uri": "https://localhost:8080/"
    },
    "id": "wonlkBZw-BsQ",
    "outputId": "d5ef378e-125b-4ce1-d115-1c2c3a42ac8d"
   },
   "execution_count": 10,
   "outputs": [
    {
     "output_type": "execute_result",
     "data": {
      "text/plain": [
       "tensor([[1., 0., 0., 0., 0.],\n",
       "        [0., 1., 0., 0., 0.],\n",
       "        [0., 0., 1., 0., 0.],\n",
       "        [0., 0., 0., 1., 0.],\n",
       "        [0., 0., 0., 0., 1.]])"
      ]
     },
     "metadata": {},
     "execution_count": 10
    }
   ]
  },
  {
   "cell_type": "code",
   "source": [
    "torch.full((3, 3), 5) # make all the value same "
   ],
   "metadata": {
    "colab": {
     "base_uri": "https://localhost:8080/"
    },
    "id": "JmUvbwgi-Bpj",
    "outputId": "f178ac49-60ef-42de-81e9-a765cbfac810"
   },
   "execution_count": 11,
   "outputs": [
    {
     "output_type": "execute_result",
     "data": {
      "text/plain": [
       "tensor([[5, 5, 5],\n",
       "        [5, 5, 5],\n",
       "        [5, 5, 5]])"
      ]
     },
     "metadata": {},
     "execution_count": 11
    }
   ]
  },
  {
   "cell_type": "code",
   "source": [
    "# determining the shape of the tensor\n",
    "a = torch.rand(3, 3)\n",
    "a.shape # return the shape of the tensor"
   ],
   "metadata": {
    "colab": {
     "base_uri": "https://localhost:8080/"
    },
    "id": "r7uPLAV_-BnB",
    "outputId": "ff7e0f20-3d61-4bc0-c237-28819c6db23a"
   },
   "execution_count": 12,
   "outputs": [
    {
     "output_type": "execute_result",
     "data": {
      "text/plain": [
       "torch.Size([3, 3])"
      ]
     },
     "metadata": {},
     "execution_count": 12
    }
   ]
  },
  {
   "cell_type": "code",
   "source": [
    "torch.empty_like(a) # make another tensor similer shape of the tensor a(show empty value)"
   ],
   "metadata": {
    "colab": {
     "base_uri": "https://localhost:8080/"
    },
    "id": "895GtmGH-Bkd",
    "outputId": "941ce657-dca8-47e8-98df-a6f9679218f3"
   },
   "execution_count": 13,
   "outputs": [
    {
     "output_type": "execute_result",
     "data": {
      "text/plain": [
       "tensor([[0.0000e+00, 0.0000e+00, 1.8788e+31],\n",
       "        [1.7220e+22, 2.1715e-18, 3.3587e-06],\n",
       "        [1.0693e-05, 5.4212e-05, 1.7265e-07]])"
      ]
     },
     "metadata": {},
     "execution_count": 13
    }
   ]
  },
  {
   "cell_type": "code",
   "source": [
    "torch.rand_like(a, dtype=torch.float32) #make same shape tensor initialised with random value"
   ],
   "metadata": {
    "colab": {
     "base_uri": "https://localhost:8080/"
    },
    "id": "GCiLUGTiAXE3",
    "outputId": "496b47f5-3e9b-41ab-b293-7855eef73243"
   },
   "execution_count": 14,
   "outputs": [
    {
     "output_type": "execute_result",
     "data": {
      "text/plain": [
       "tensor([[0.9014, 0.9969, 0.7565],\n",
       "        [0.2239, 0.3023, 0.1784],\n",
       "        [0.8238, 0.5557, 0.9770]])"
      ]
     },
     "metadata": {},
     "execution_count": 14
    }
   ]
  },
  {
   "cell_type": "code",
   "source": [
    "torch.zeros_like(a) # same shape but all the values are 0\n",
    "torch.ones_like(a) # same shape but all the values are 1"
   ],
   "metadata": {
    "colab": {
     "base_uri": "https://localhost:8080/"
    },
    "id": "FctRrMgh-BPw",
    "outputId": "de3d4e18-487d-4447-ce9e-ab1422e1ee2f"
   },
   "execution_count": 15,
   "outputs": [
    {
     "output_type": "execute_result",
     "data": {
      "text/plain": [
       "tensor([[1., 1., 1.],\n",
       "        [1., 1., 1.],\n",
       "        [1., 1., 1.]])"
      ]
     },
     "metadata": {},
     "execution_count": 15
    }
   ]
  },
  {
   "cell_type": "markdown",
   "source": [
    "# Showing Datatype"
   ],
   "metadata": {
    "id": "w8GLftn8_glI"
   }
  },
  {
   "cell_type": "code",
   "source": [],
   "metadata": {
    "id": "GbdFIJvyAVbb"
   },
   "execution_count": 15,
   "outputs": []
  },
  {
   "cell_type": "code",
   "source": [
    "a.dtype #show the type of tensor"
   ],
   "metadata": {
    "colab": {
     "base_uri": "https://localhost:8080/"
    },
    "id": "jOtfJWoK-BMS",
    "outputId": "56c9948d-0fb0-4515-c89f-f84771cff48f"
   },
   "execution_count": 16,
   "outputs": [
    {
     "output_type": "execute_result",
     "data": {
      "text/plain": [
       "torch.float32"
      ]
     },
     "metadata": {},
     "execution_count": 16
    }
   ]
  },
  {
   "cell_type": "code",
   "source": [
    "torch.tensor([1, 2, 3], dtype=torch.int32)  # make tensor of specific type"
   ],
   "metadata": {
    "colab": {
     "base_uri": "https://localhost:8080/"
    },
    "id": "COZur2PD-BKL",
    "outputId": "5131eb54-b07c-4b17-ba69-37a28cc1a4bc"
   },
   "execution_count": 17,
   "outputs": [
    {
     "output_type": "execute_result",
     "data": {
      "text/plain": [
       "tensor([1, 2, 3], dtype=torch.int32)"
      ]
     },
     "metadata": {},
     "execution_count": 17
    }
   ]
  },
  {
   "cell_type": "code",
   "source": [
    "a.to(torch.int32) # change the type of the tensor"
   ],
   "metadata": {
    "colab": {
     "base_uri": "https://localhost:8080/"
    },
    "id": "Ac9lTg_l-BHH",
    "outputId": "e4a4f411-9355-4556-b7f3-2cc8ed67068c"
   },
   "execution_count": 18,
   "outputs": [
    {
     "output_type": "execute_result",
     "data": {
      "text/plain": [
       "tensor([[0, 0, 0],\n",
       "        [0, 0, 0],\n",
       "        [0, 0, 0]], dtype=torch.int32)"
      ]
     },
     "metadata": {},
     "execution_count": 18
    }
   ]
  },
  {
   "cell_type": "markdown",
   "source": [
    "# Basic Operation"
   ],
   "metadata": {
    "id": "2COuY-jyArfi"
   }
  },
  {
   "cell_type": "code",
   "source": [
    "a+2 # add 2 with all the element of a\n",
    "\n",
    "a-2 # subtract 2 with all the element of a\n",
    "\n",
    "a/2 # divid 2 with all the element of a\n",
    "\n",
    "a*3 # multiply 3 with all the element of a\n",
    "\n",
    "a//2 # integer divid 2 with all the element of a\n",
    "\n",
    "(a*199) % 2 # find mod \n",
    "\n",
    "a**2 # power of 2"
   ],
   "metadata": {
    "id": "fnwA-atdABsV",
    "colab": {
     "base_uri": "https://localhost:8080/"
    },
    "outputId": "c3ba3683-19dc-408e-d509-12e403b6e43b"
   },
   "execution_count": 19,
   "outputs": [
    {
     "output_type": "execute_result",
     "data": {
      "text/plain": [
       "tensor([[0.0690, 0.0018, 0.0433],\n",
       "        [0.0139, 0.0148, 0.5411],\n",
       "        [0.5066, 0.6203, 0.1750]])"
      ]
     },
     "metadata": {},
     "execution_count": 19
    }
   ]
  },
  {
   "cell_type": "code",
   "source": [
    "x = torch.rand(3, 3)\n",
    "y = torch.rand(3, 3)"
   ],
   "metadata": {
    "id": "-UrJeXETA_z9"
   },
   "execution_count": 20,
   "outputs": []
  },
  {
   "cell_type": "code",
   "source": [
    "x+y # addition of 2 tensor\n",
    "\n",
    "x-y # subtraction of 2 tensor\n",
    "\n",
    "x/y # division of 2 vectors\n",
    "\n",
    "x*y # multiplication of 2 vectors\n",
    "\n",
    "x//y # integer division \n",
    "\n",
    "(x*199) % y # dont know"
   ],
   "metadata": {
    "id": "F2FlqbD4A_xE",
    "colab": {
     "base_uri": "https://localhost:8080/"
    },
    "outputId": "c4289ec0-1f68-43e8-eafa-f8f7bd8600a0"
   },
   "execution_count": 21,
   "outputs": [
    {
     "output_type": "execute_result",
     "data": {
      "text/plain": [
       "tensor([[0.2756, 0.0096, 0.1530],\n",
       "        [0.0906, 0.2338, 0.1068],\n",
       "        [0.8569, 0.1438, 0.0326]])"
      ]
     },
     "metadata": {},
     "execution_count": 21
    }
   ]
  },
  {
   "cell_type": "code",
   "source": [
    "c = torch.tensor([1, -2, 3, -4])\n",
    "\n",
    "torch.abs(c) # make all values position\n",
    "\n",
    "torch.neg(c) # make all values negative\n",
    "\n",
    "torch.round(c) # round if some value is float \n",
    "\n",
    "torch.exp(c) # find the exponential of all values\n",
    "\n",
    "torch.log(c) # find logarithm\n",
    "\n",
    "torch.sqrt(c) # find square root of all values"
   ],
   "metadata": {
    "colab": {
     "base_uri": "https://localhost:8080/"
    },
    "id": "UFlOnsLIA_r7",
    "outputId": "27d563e8-16ec-49ca-9ab1-cab98543e9b3"
   },
   "execution_count": 22,
   "outputs": [
    {
     "output_type": "execute_result",
     "data": {
      "text/plain": [
       "tensor([1.0000,    nan, 1.7321,    nan])"
      ]
     },
     "metadata": {},
     "execution_count": 22
    }
   ]
  },
  {
   "cell_type": "code",
   "source": [
    "torch.clamp(c, min=-1, max=2) # bound all values within minimum and maximum value"
   ],
   "metadata": {
    "colab": {
     "base_uri": "https://localhost:8080/"
    },
    "id": "20IjMqmBA_pQ",
    "outputId": "033dace4-3607-447b-b81e-b88e1e6d3fa7"
   },
   "execution_count": 23,
   "outputs": [
    {
     "output_type": "execute_result",
     "data": {
      "text/plain": [
       "tensor([ 1, -1,  2, -1])"
      ]
     },
     "metadata": {},
     "execution_count": 23
    }
   ]
  },
  {
   "cell_type": "code",
   "source": [
    "e = torch.randint(size=(3, 3), low=5, high=10, dtype=torch.float32)"
   ],
   "metadata": {
    "id": "raCN-mxqA_k5"
   },
   "execution_count": 24,
   "outputs": []
  },
  {
   "cell_type": "code",
   "source": [
    "torch.sum(e) # return the sum of all values"
   ],
   "metadata": {
    "colab": {
     "base_uri": "https://localhost:8080/"
    },
    "id": "18fwklBAA_iP",
    "outputId": "ca89f11d-1bcf-4acd-996e-df2d829fc095"
   },
   "execution_count": 25,
   "outputs": [
    {
     "output_type": "execute_result",
     "data": {
      "text/plain": [
       "tensor(68.)"
      ]
     },
     "metadata": {},
     "execution_count": 25
    }
   ]
  },
  {
   "cell_type": "code",
   "source": [
    "torch.sum(e, dim=0) # return the sum of rows\n",
    "torch.sum(e, dim=1) # return the sum of columns"
   ],
   "metadata": {
    "colab": {
     "base_uri": "https://localhost:8080/"
    },
    "id": "Be1rb11CA_fu",
    "outputId": "3554c5d9-8d2f-4337-acf6-8ee08b67ffdb"
   },
   "execution_count": 26,
   "outputs": [
    {
     "output_type": "execute_result",
     "data": {
      "text/plain": [
       "tensor([23., 21., 24.])"
      ]
     },
     "metadata": {},
     "execution_count": 26
    }
   ]
  },
  {
   "cell_type": "code",
   "source": [
    "torch.mean(e) # show mean of all values"
   ],
   "metadata": {
    "colab": {
     "base_uri": "https://localhost:8080/"
    },
    "id": "6yQIzW7RA_dS",
    "outputId": "dd483a0a-431f-4794-c231-9a050736b29e"
   },
   "execution_count": 27,
   "outputs": [
    {
     "output_type": "execute_result",
     "data": {
      "text/plain": [
       "tensor(7.5556)"
      ]
     },
     "metadata": {},
     "execution_count": 27
    }
   ]
  },
  {
   "cell_type": "code",
   "source": [
    "torch.median(e) # show median of all values"
   ],
   "metadata": {
    "colab": {
     "base_uri": "https://localhost:8080/"
    },
    "id": "LGxyfeIZA_Gu",
    "outputId": "3e36cac9-e736-4cec-9077-19aa1fb6297a"
   },
   "execution_count": 28,
   "outputs": [
    {
     "output_type": "execute_result",
     "data": {
      "text/plain": [
       "tensor(8.)"
      ]
     },
     "metadata": {},
     "execution_count": 28
    }
   ]
  },
  {
   "cell_type": "code",
   "source": [
    "torch.max(e) # show maximum of all values\n",
    "torch.min(e) # show minimum of all alues"
   ],
   "metadata": {
    "colab": {
     "base_uri": "https://localhost:8080/"
    },
    "id": "3Z3hK3VcBBJS",
    "outputId": "0ff5e5f7-63c4-471c-ff7f-b1589e0f83a2"
   },
   "execution_count": 29,
   "outputs": [
    {
     "output_type": "execute_result",
     "data": {
      "text/plain": [
       "tensor(5.)"
      ]
     },
     "metadata": {},
     "execution_count": 29
    }
   ]
  },
  {
   "cell_type": "code",
   "source": [
    "torch.prod(e) # product of all  values"
   ],
   "metadata": {
    "colab": {
     "base_uri": "https://localhost:8080/"
    },
    "id": "iOjMkZ_qBA2c",
    "outputId": "b1c988a1-2e5e-45c6-e138-d75e804767d9"
   },
   "execution_count": 30,
   "outputs": [
    {
     "output_type": "execute_result",
     "data": {
      "text/plain": [
       "tensor(64297800.)"
      ]
     },
     "metadata": {},
     "execution_count": 30
    }
   ]
  },
  {
   "cell_type": "code",
   "source": [
    "torch.std(e) # standard daviasion of all values"
   ],
   "metadata": {
    "colab": {
     "base_uri": "https://localhost:8080/"
    },
    "id": "UG9GcwTRBAzv",
    "outputId": "5cf1a26b-86b7-4660-8b61-61863772c725"
   },
   "execution_count": 31,
   "outputs": [
    {
     "output_type": "execute_result",
     "data": {
      "text/plain": [
       "tensor(1.6667)"
      ]
     },
     "metadata": {},
     "execution_count": 31
    }
   ]
  },
  {
   "cell_type": "code",
   "source": [
    "torch.var(e) # variance of all values"
   ],
   "metadata": {
    "colab": {
     "base_uri": "https://localhost:8080/"
    },
    "id": "_XSbhfRsBAxM",
    "outputId": "c068816b-68bd-4911-c0cb-28ab8ca6c428"
   },
   "execution_count": 32,
   "outputs": [
    {
     "output_type": "execute_result",
     "data": {
      "text/plain": [
       "tensor(2.7778)"
      ]
     },
     "metadata": {},
     "execution_count": 32
    }
   ]
  },
  {
   "cell_type": "code",
   "source": [
    "torch.argmin(e) # position of minumum value"
   ],
   "metadata": {
    "colab": {
     "base_uri": "https://localhost:8080/"
    },
    "id": "FJtVXmosBAu7",
    "outputId": "6573e1dc-247b-41dc-d80d-ee3f995b5480"
   },
   "execution_count": 33,
   "outputs": [
    {
     "output_type": "execute_result",
     "data": {
      "text/plain": [
       "tensor(0)"
      ]
     },
     "metadata": {},
     "execution_count": 33
    }
   ]
  },
  {
   "cell_type": "code",
   "source": [
    "torch.argmax(e) # position of maximum value "
   ],
   "metadata": {
    "colab": {
     "base_uri": "https://localhost:8080/"
    },
    "id": "hhvaIm8UDBU_",
    "outputId": "f45592c3-1342-49af-aa41-8225f4554d54"
   },
   "execution_count": 34,
   "outputs": [
    {
     "output_type": "execute_result",
     "data": {
      "text/plain": [
       "tensor(1)"
      ]
     },
     "metadata": {},
     "execution_count": 34
    }
   ]
  },
  {
   "cell_type": "markdown",
   "source": [
    "Matrix operatoon"
   ],
   "metadata": {
    "id": "FRuQ2zf0DIah"
   }
  },
  {
   "cell_type": "code",
   "source": [
    "p=torch.randint(size=(3, 3), low=5, high=9, dtype=torch.int32)\n",
    "q=torch.randint(size=(3, 3), low=5, high=9, dtype=torch.int32)"
   ],
   "metadata": {
    "id": "iSZYsu20DCrq"
   },
   "execution_count": 35,
   "outputs": []
  },
  {
   "cell_type": "code",
   "source": [
    "torch.matmul(p, q) # multiplication of 2 tensor"
   ],
   "metadata": {
    "colab": {
     "base_uri": "https://localhost:8080/"
    },
    "id": "eqTooZWEDR3-",
    "outputId": "d73969ed-788f-49e2-dd76-24c697750aab"
   },
   "execution_count": 36,
   "outputs": [
    {
     "output_type": "execute_result",
     "data": {
      "text/plain": [
       "tensor([[118, 150, 131],\n",
       "        [113, 140, 128],\n",
       "        [137, 170, 153]], dtype=torch.int32)"
      ]
     },
     "metadata": {},
     "execution_count": 36
    }
   ]
  },
  {
   "cell_type": "code",
   "source": [
    "v1 = torch.tensor([1, 3, 2])\n",
    "v2 = torch.tensor([3, 2, 1])"
   ],
   "metadata": {
    "id": "8v-zplLFDmS5"
   },
   "execution_count": 37,
   "outputs": []
  },
  {
   "cell_type": "code",
   "source": [
    "torch.dot(v1, v2) # docproduct of 2 tensors"
   ],
   "metadata": {
    "colab": {
     "base_uri": "https://localhost:8080/"
    },
    "id": "jeK8ucIBXUvA",
    "outputId": "019f9ede-3c68-405e-c2dd-1055986270f5"
   },
   "execution_count": 38,
   "outputs": [
    {
     "output_type": "execute_result",
     "data": {
      "text/plain": [
       "tensor(11)"
      ]
     },
     "metadata": {},
     "execution_count": 38
    }
   ]
  },
  {
   "cell_type": "code",
   "source": [
    "torch.transpose(x, 0, 1) # transpose of tensor"
   ],
   "metadata": {
    "colab": {
     "base_uri": "https://localhost:8080/"
    },
    "id": "3QsmS58hXYAi",
    "outputId": "f5f098b8-01ad-48db-d949-d82758e8891e"
   },
   "execution_count": 39,
   "outputs": [
    {
     "output_type": "execute_result",
     "data": {
      "text/plain": [
       "tensor([[0.4440, 0.4892, 0.5277],\n",
       "        [0.9478, 0.2426, 0.2472],\n",
       "        [0.7445, 0.7003, 0.7909]])"
      ]
     },
     "metadata": {},
     "execution_count": 39
    }
   ]
  },
  {
   "cell_type": "code",
   "source": [
    "v1>v2 # show the list of  maximum value(boolean)"
   ],
   "metadata": {
    "colab": {
     "base_uri": "https://localhost:8080/"
    },
    "id": "eXQTfb8lXhZi",
    "outputId": "ef665e85-1051-4570-d08a-41d98df37274"
   },
   "execution_count": 40,
   "outputs": [
    {
     "output_type": "execute_result",
     "data": {
      "text/plain": [
       "tensor([False,  True,  True])"
      ]
     },
     "metadata": {},
     "execution_count": 40
    }
   ]
  },
  {
   "cell_type": "code",
   "source": [
    "v1<v2 # show the list of  minimum value(boolean)"
   ],
   "metadata": {
    "colab": {
     "base_uri": "https://localhost:8080/"
    },
    "id": "BMRnCsTgXvkW",
    "outputId": "b424b067-b921-4b29-a894-05c3e4b246b9"
   },
   "execution_count": 41,
   "outputs": [
    {
     "output_type": "execute_result",
     "data": {
      "text/plain": [
       "tensor([ True, False, False])"
      ]
     },
     "metadata": {},
     "execution_count": 41
    }
   ]
  },
  {
   "cell_type": "code",
   "source": [
    "k = torch.randint(size=(5, 5), low=9, high=21, dtype=torch.float32)"
   ],
   "metadata": {
    "id": "5gQbHQB0XyXt"
   },
   "execution_count": 43,
   "outputs": []
  },
  {
   "cell_type": "code",
   "source": [
    "torch.sigmoid(k) # sigmopoid function"
   ],
   "metadata": {
    "colab": {
     "base_uri": "https://localhost:8080/"
    },
    "id": "VJaBbfoBYQNZ",
    "outputId": "0d98b713-11fe-44a1-e4dd-a900479ac280"
   },
   "execution_count": 44,
   "outputs": [
    {
     "output_type": "execute_result",
     "data": {
      "text/plain": [
       "tensor([[1.0000, 1.0000, 1.0000, 1.0000, 1.0000],\n",
       "        [1.0000, 1.0000, 1.0000, 1.0000, 1.0000],\n",
       "        [1.0000, 1.0000, 1.0000, 1.0000, 1.0000],\n",
       "        [1.0000, 0.9999, 0.9999, 1.0000, 1.0000],\n",
       "        [1.0000, 1.0000, 1.0000, 1.0000, 1.0000]])"
      ]
     },
     "metadata": {},
     "execution_count": 44
    }
   ]
  },
  {
   "cell_type": "code",
   "source": [
    "torch.relu(k) # relu function "
   ],
   "metadata": {
    "colab": {
     "base_uri": "https://localhost:8080/"
    },
    "id": "t2_3umV3YSG3",
    "outputId": "92ca35ff-1f4b-4217-c86f-ffbedb9f3bcd"
   },
   "execution_count": 45,
   "outputs": [
    {
     "output_type": "execute_result",
     "data": {
      "text/plain": [
       "tensor([[14., 10., 13., 15., 16.],\n",
       "        [11., 12., 13., 12., 15.],\n",
       "        [12., 15., 16., 13., 16.],\n",
       "        [10.,  9.,  9., 16., 17.],\n",
       "        [18., 12., 11., 19., 11.]])"
      ]
     },
     "metadata": {},
     "execution_count": 45
    }
   ]
  },
  {
   "cell_type": "code",
   "source": [
    "torch.softmax(k, dim=0) # softmax function"
   ],
   "metadata": {
    "colab": {
     "base_uri": "https://localhost:8080/"
    },
    "id": "SeX5TdEjYSDv",
    "outputId": "de9644d7-0253-45ce-e471-5ba04949b519"
   },
   "execution_count": 47,
   "outputs": [
    {
     "output_type": "execute_result",
     "data": {
      "text/plain": [
       "tensor([[1.7921e-02, 6.0768e-03, 4.4966e-02, 1.7094e-02, 1.9635e-01],\n",
       "        [8.9222e-04, 4.4902e-02, 4.4966e-02, 8.5104e-04, 7.2234e-02],\n",
       "        [2.4253e-03, 9.0188e-01, 9.0316e-01, 2.3134e-03, 1.9635e-01],\n",
       "        [3.2823e-04, 2.2355e-03, 8.2358e-04, 4.6465e-02, 5.3374e-01],\n",
       "        [9.7843e-01, 4.4902e-02, 6.0854e-03, 9.3328e-01, 1.3230e-03]])"
      ]
     },
     "metadata": {},
     "execution_count": 47
    }
   ]
  },
  {
   "cell_type": "markdown",
   "source": [
    "inplace operation"
   ],
   "metadata": {
    "id": "hcNBuiu1Y607"
   }
  },
  {
   "cell_type": "code",
   "source": [
    "m = torch.rand(2, 3)\n",
    "n = torch.rand(2, 3)"
   ],
   "metadata": {
    "id": "jJKtG_lpYR_W"
   },
   "execution_count": 51,
   "outputs": []
  },
  {
   "cell_type": "code",
   "source": [
    "m.add_ = m+n # inplace addition"
   ],
   "metadata": {
    "id": "JnPfezvJYR8d"
   },
   "execution_count": 49,
   "outputs": []
  },
  {
   "cell_type": "code",
   "source": [
    "m.relu_() # inplace relu function"
   ],
   "metadata": {
    "colab": {
     "base_uri": "https://localhost:8080/"
    },
    "id": "pHS0tgl6YR56",
    "outputId": "7a085b5c-212b-4d02-c53a-530fbb7e2bcc"
   },
   "execution_count": 50,
   "outputs": [
    {
     "output_type": "execute_result",
     "data": {
      "text/plain": [
       "tensor([[0.2499, 0.3206, 0.9753],\n",
       "        [0.7582, 0.6688, 0.2651]])"
      ]
     },
     "metadata": {},
     "execution_count": 50
    }
   ]
  },
  {
   "cell_type": "markdown",
   "source": [
    "# Copy "
   ],
   "metadata": {
    "id": "Atx4pmT9ZgjE"
   }
  },
  {
   "cell_type": "code",
   "source": [
    "n = m.clone() # Cloning a tensor"
   ],
   "metadata": {
    "id": "IK8eWCV9Zes4"
   },
   "execution_count": 52,
   "outputs": []
  },
  {
   "cell_type": "markdown",
   "source": [
    "#tensor operation on GPU"
   ],
   "metadata": {
    "id": "EVVAyps9aFAO"
   }
  },
  {
   "cell_type": "code",
   "source": [
    "torch.cuda.is_available() # check if GPU is available or not"
   ],
   "metadata": {
    "colab": {
     "base_uri": "https://localhost:8080/"
    },
    "id": "KuJDvzZZZeHm",
    "outputId": "aeda3d2a-0bf2-455f-bfdc-5625a79979e9"
   },
   "execution_count": 53,
   "outputs": [
    {
     "output_type": "execute_result",
     "data": {
      "text/plain": [
       "True"
      ]
     },
     "metadata": {},
     "execution_count": 53
    }
   ]
  },
  {
   "cell_type": "code",
   "source": [
    "device = torch.device(\"cuda\" if torch.cuda.is_available() else \"cpu\") # storing GPU power into a variable"
   ],
   "metadata": {
    "id": "oD-Qic4mYR2u"
   },
   "execution_count": 54,
   "outputs": []
  },
  {
   "cell_type": "code",
   "source": [
    "torch.rand((2, 3), device=device) # making a tensor and pushing it into GPU"
   ],
   "metadata": {
    "colab": {
     "base_uri": "https://localhost:8080/"
    },
    "id": "WPHrvkCqYRyT",
    "outputId": "9e885274-86b8-4d50-dcc2-06966c2b9889"
   },
   "execution_count": 55,
   "outputs": [
    {
     "output_type": "execute_result",
     "data": {
      "text/plain": [
       "tensor([[0.3563, 0.0303, 0.7088],\n",
       "        [0.2009, 0.0224, 0.9896]], device='cuda:0')"
      ]
     },
     "metadata": {},
     "execution_count": 55
    }
   ]
  },
  {
   "cell_type": "code",
   "source": [
    "m.to(device) # pushing into GPU"
   ],
   "metadata": {
    "colab": {
     "base_uri": "https://localhost:8080/"
    },
    "id": "bnxMJs9CYRvi",
    "outputId": "0202afff-9128-425a-9e41-ce13a1e52e03"
   },
   "execution_count": 56,
   "outputs": [
    {
     "output_type": "execute_result",
     "data": {
      "text/plain": [
       "tensor([[0.3397, 0.1879, 0.5534],\n",
       "        [0.2682, 0.9556, 0.9761]], device='cuda:0')"
      ]
     },
     "metadata": {},
     "execution_count": 56
    }
   ]
  },
  {
   "cell_type": "code",
   "source": [
    "import time\n",
    "# writing the code with GPu power\n",
    "\n",
    "n = 1000\n",
    "\n",
    "matrix1 = torch.randint(size=(n, n), low=10, high=50, dtype=torch.int32)\n",
    "matrix2 = torch.randint(size=(n, n), low=10, high=50, dtype=torch.int32)\n",
    "\n",
    "#defining time\n",
    "start_time = time.time()\n",
    "on_cpu = torch.matmul(matrix1, matrix2)\n",
    "end_time = time.time()-start_time\n",
    "\n",
    "print(f\"total time required : {end_time:.4f}\")\n",
    "\n",
    "\n"
   ],
   "metadata": {
    "colab": {
     "base_uri": "https://localhost:8080/"
    },
    "id": "ba4XKjQ6YRsj",
    "outputId": "fd35c202-c834-4b11-970a-62227f503492"
   },
   "execution_count": 58,
   "outputs": [
    {
     "output_type": "stream",
     "name": "stdout",
     "text": [
      "total time required : 1.0497\n"
     ]
    }
   ]
  },
  {
   "cell_type": "code",
   "source": [
    "import time\n",
    "# writing the code with GPu power\n",
    "\n",
    "n = 1000\n",
    "\n",
    "matrix1 = torch.randint(size=(n, n), low=10, high=50, dtype=torch.float32)\n",
    "matrix2 = torch.randint(size=(n, n), low=10, high=50, dtype=torch.float32)\n",
    "\n",
    "\n",
    "matrix1 = matrix1.to(device)\n",
    "matrix2 = matrix2.to(device)\n",
    "\n",
    "#defining time\n",
    "start_time = time.time()\n",
    "on_cpu = torch.matmul(matrix1, matrix2)\n",
    "end_time = time.time()-start_time\n",
    "\n",
    "print(f\"total time required : {end_time:.4f}\")\n"
   ],
   "metadata": {
    "colab": {
     "base_uri": "https://localhost:8080/"
    },
    "id": "Od81Y6f5YRoC",
    "outputId": "b9f9e47d-b5b6-47f6-be40-a9cdcd4bbe78"
   },
   "execution_count": 60,
   "outputs": [
    {
     "output_type": "stream",
     "name": "stdout",
     "text": [
      "total time required : 0.1267\n"
     ]
    }
   ]
  },
  {
   "cell_type": "code",
   "source": [
    "m.shape"
   ],
   "metadata": {
    "colab": {
     "base_uri": "https://localhost:8080/"
    },
    "id": "gaFgvS9EYRlR",
    "outputId": "8e73c3b8-bbf5-4670-802e-397efe822dc2"
   },
   "execution_count": 62,
   "outputs": [
    {
     "output_type": "execute_result",
     "data": {
      "text/plain": [
       "torch.Size([2, 3])"
      ]
     },
     "metadata": {},
     "execution_count": 62
    }
   ]
  },
  {
   "cell_type": "code",
   "source": [
    "m.reshape(6, 1) # reshaping a tensor(Product of row and column must be equal for all shape)"
   ],
   "metadata": {
    "colab": {
     "base_uri": "https://localhost:8080/"
    },
    "id": "UCtN0nsFYReP",
    "outputId": "8cd3fcc4-13af-43bd-8716-8cd883ca9064"
   },
   "execution_count": 63,
   "outputs": [
    {
     "output_type": "execute_result",
     "data": {
      "text/plain": [
       "tensor([[0.3397],\n",
       "        [0.1879],\n",
       "        [0.5534],\n",
       "        [0.2682],\n",
       "        [0.9556],\n",
       "        [0.9761]])"
      ]
     },
     "metadata": {},
     "execution_count": 63
    }
   ]
  },
  {
   "cell_type": "code",
   "source": [
    "#rearranging dimension\n",
    "b = torch.rand(2, 3, 4)\n",
    "b.permute(2, 1, 0) # rearranging column position (column index)"
   ],
   "metadata": {
    "colab": {
     "base_uri": "https://localhost:8080/"
    },
    "id": "T3VVbU83YRam",
    "outputId": "0063f205-aba9-43fa-8d6c-951aed9871f2"
   },
   "execution_count": 64,
   "outputs": [
    {
     "output_type": "execute_result",
     "data": {
      "text/plain": [
       "tensor([[[0.2027, 0.4021],\n",
       "         [0.1142, 0.9557],\n",
       "         [0.8186, 0.7711]],\n",
       "\n",
       "        [[0.0298, 0.4723],\n",
       "         [0.5151, 0.2597],\n",
       "         [0.7866, 0.8058]],\n",
       "\n",
       "        [[0.9324, 0.8623],\n",
       "         [0.3628, 0.4822],\n",
       "         [0.6962, 0.7985]],\n",
       "\n",
       "        [[0.9879, 0.9867],\n",
       "         [0.9032, 0.2435],\n",
       "         [0.8758, 0.5763]]])"
      ]
     },
     "metadata": {},
     "execution_count": 64
    }
   ]
  },
  {
   "cell_type": "code",
   "source": [
    "c = torch.rand(226, 226, 3) # convert a single image to batch\n",
    "c.unsqueeze(0).shape # adding extra column into 0th index"
   ],
   "metadata": {
    "colab": {
     "base_uri": "https://localhost:8080/"
    },
    "id": "g5HBXOahYRFQ",
    "outputId": "68e9e1b9-a464-4b72-d0fa-9f55c8e0106b"
   },
   "execution_count": 66,
   "outputs": [
    {
     "output_type": "execute_result",
     "data": {
      "text/plain": [
       "torch.Size([1, 226, 226, 3])"
      ]
     },
     "metadata": {},
     "execution_count": 66
    }
   ]
  },
  {
   "cell_type": "code",
   "source": [
    "c.squeeze(0).shape # adding column into 0th index"
   ],
   "metadata": {
    "colab": {
     "base_uri": "https://localhost:8080/"
    },
    "id": "7sudRsPXdTm7",
    "outputId": "fa0f5d68-10f2-46c6-cae1-c011f9e618c2"
   },
   "execution_count": 67,
   "outputs": [
    {
     "output_type": "execute_result",
     "data": {
      "text/plain": [
       "torch.Size([226, 226, 3])"
      ]
     },
     "metadata": {},
     "execution_count": 67
    }
   ]
  },
  {
   "cell_type": "code",
   "source": [
    "# conversion from numpy to pytorch\n",
    "import numpy as np"
   ],
   "metadata": {
    "id": "wfndL7ZgdTkO"
   },
   "execution_count": 68,
   "outputs": []
  },
  {
   "cell_type": "code",
   "source": [
    "a = torch.tensor([1, 2, 3, 4, 5])\n",
    "a.numpy() # convert to numpy"
   ],
   "metadata": {
    "colab": {
     "base_uri": "https://localhost:8080/"
    },
    "id": "YyCvI9l2dThj",
    "outputId": "0869f28e-9b33-473a-8bf1-edb96f04034a"
   },
   "execution_count": 69,
   "outputs": [
    {
     "output_type": "execute_result",
     "data": {
      "text/plain": [
       "array([1, 2, 3, 4, 5])"
      ]
     },
     "metadata": {},
     "execution_count": 69
    }
   ]
  },
  {
   "cell_type": "code",
   "source": [
    "c = np.array([1, 2, 3, 4, 5])\n",
    "torch.from_numpy(c) # convert to pytorch"
   ],
   "metadata": {
    "id": "2rQYW9SVdTex"
   },
   "execution_count": null,
   "outputs": []
  },
  {
   "cell_type": "code",
   "source": [],
   "metadata": {
    "id": "B27YxRzhdTby"
   },
   "execution_count": null,
   "outputs": []
  },
  {
   "cell_type": "code",
   "source": [],
   "metadata": {
    "id": "-QB91MrAdTTz"
   },
   "execution_count": null,
   "outputs": []
  },
  {
   "cell_type": "code",
   "source": [],
   "metadata": {
    "id": "WYlbLUnIdTQn"
   },
   "execution_count": null,
   "outputs": []
  }
 ]
}
