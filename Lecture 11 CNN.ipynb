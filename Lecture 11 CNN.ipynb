{
  "cells": [
    {
      "cell_type": "code",
      "execution_count": 20,
      "metadata": {
        "id": "KG56TvPE-9eI"
      },
      "outputs": [],
      "source": [
        "import pandas as pd\n",
        "import numpy as np"
      ]
    },
    {
      "cell_type": "markdown",
      "metadata": {
        "id": "HFqYvJip_Tyf"
      },
      "source": [
        "# Importing Dataset"
      ]
    },
    {
      "cell_type": "code",
      "execution_count": 21,
      "metadata": {
        "id": "V6mxXkOV_VLw"
      },
      "outputs": [],
      "source": [
        "df = pd.read_csv(\"/content/drive/MyDrive/Datasets/fashion-mnist_train.csv\")"
      ]
    },
    {
      "cell_type": "markdown",
      "metadata": {
        "id": "mpU04owg_rGM"
      },
      "source": [
        "# Splitting and Scalling"
      ]
    },
    {
      "cell_type": "code",
      "execution_count": 22,
      "metadata": {
        "id": "rXa9CE_o_t4s"
      },
      "outputs": [],
      "source": [
        "from sklearn.model_selection import train_test_split as split\n",
        "\n",
        "train_x, test_x, train_y, test_y = split(df.drop(\"label\", axis=1), df[\"label\"], test_size=0.2, random_state=42)\n",
        "\n",
        "# Scalling\n",
        "train_x = train_x/255.0\n",
        "test_x = test_x/255.0"
      ]
    },
    {
      "cell_type": "markdown",
      "metadata": {
        "id": "rdylUoc-D8q-"
      },
      "source": [
        "# GPU availability"
      ]
    },
    {
      "cell_type": "code",
      "execution_count": 23,
      "metadata": {
        "id": "3J99yO2nD-is"
      },
      "outputs": [],
      "source": [
        "import torch\n",
        "device = \"cuda\" if torch.cuda.is_available() else \"cpu\""
      ]
    },
    {
      "cell_type": "markdown",
      "metadata": {
        "id": "kyh-eVHbAJWg"
      },
      "source": [
        "# Custom Dataset Class"
      ]
    },
    {
      "cell_type": "code",
      "execution_count": 24,
      "metadata": {
        "id": "-JOMWrixANBu"
      },
      "outputs": [],
      "source": [
        "from torch.utils.data import Dataset, DataLoader\n",
        "\n",
        "class CustomDataset(Dataset):\n",
        "  def __init__(self, features, labels):\n",
        "    self.features = torch.tensor(features.values, dtype=torch.float32).reshape(-1, 1, 28, 28)\n",
        "    self.labels = torch.tensor(labels.values, dtype=torch.long)\n",
        "\n",
        "  def __len__(self):\n",
        "    return len(self.features)\n",
        "\n",
        "  def __getitem__(self, idx):\n",
        "    return self.features[idx], self.labels[idx]"
      ]
    },
    {
      "cell_type": "code",
      "execution_count": 25,
      "metadata": {
        "id": "0fVyYpuPAYUo"
      },
      "outputs": [],
      "source": [
        "# Object of Custom Dataset\n",
        "train_dataset = CustomDataset(train_x, train_y)\n",
        "test_dataset = CustomDataset(test_x, test_y)\n",
        "\n",
        "# Object of custom DataLoader class\n",
        "train_loader = DataLoader(train_dataset, batch_size=32, shuffle=True)\n",
        "test_loader = DataLoader(test_dataset, batch_size=32, shuffle=False)"
      ]
    },
    {
      "cell_type": "markdown",
      "metadata": {
        "id": "AqYNbwN9A77X"
      },
      "source": [
        "# Deep Learning Model"
      ]
    },
    {
      "cell_type": "code",
      "execution_count": 26,
      "metadata": {
        "id": "08KqPBpCUDMv"
      },
      "outputs": [],
      "source": [
        "import torch.nn as nn\n",
        "\n",
        "class MyNN(nn.Module):\n",
        "\n",
        "  def __init__(self, input_features):\n",
        "    super().__init__()\n",
        "\n",
        "    self.feature = nn.Sequential(\n",
        "        nn.Conv2d(input_features, 32, kernel_size=3, padding='same'),\n",
        "        nn.ReLU(),\n",
        "        nn.BatchNorm2d(32),\n",
        "        nn.MaxPool2d(kernel_size=2, stride=2),\n",
        "\n",
        "        nn.Conv2d(32, 64, kernel_size=3, padding='same'),\n",
        "        nn.ReLU(),\n",
        "        nn.BatchNorm2d(64),\n",
        "        nn.MaxPool2d(kernel_size=2, stride=2),\n",
        "    )\n",
        "\n",
        "    self.classifier = nn.Sequential(\n",
        "        nn.Flatten(),\n",
        "        nn.Linear(64*7*7, 128),\n",
        "        nn.ReLU(),\n",
        "        nn.Dropout(0.5),\n",
        "\n",
        "        nn.Linear(128, 64),\n",
        "        nn.ReLU(),\n",
        "        nn.Dropout(0.5),\n",
        "\n",
        "        nn.Linear(64, 10)\n",
        "    )\n",
        "\n",
        "  def forward(self, x):\n",
        "    x = self.feature(x)\n",
        "    x = self.classifier(x)\n",
        "    return x"
      ]
    },
    {
      "cell_type": "markdown",
      "source": [
        "# Model define and Important Parameter"
      ],
      "metadata": {
        "id": "ITy_UMWRa5I1"
      }
    },
    {
      "cell_type": "code",
      "source": [
        "learning_rate = 0.001\n",
        "epochs = 100\n",
        "\n",
        "model = MyNN(1)\n",
        "\n",
        "model.to(device)\n",
        "\n",
        "criterion = nn.CrossEntropyLoss()\n",
        "optimizer = torch.optim.Adam(model.parameters(), lr=0.001, weight_decay=1e-4)"
      ],
      "metadata": {
        "id": "a-9758xTa4rD"
      },
      "execution_count": 27,
      "outputs": []
    },
    {
      "cell_type": "markdown",
      "source": [
        "# Model Timeline"
      ],
      "metadata": {
        "id": "j253l4eWbVEE"
      }
    },
    {
      "cell_type": "code",
      "source": [
        "for epoch in range(epochs):\n",
        "  total_epoch_loss = 0\n",
        "\n",
        "  for batch_features, batch_labels in train_loader:\n",
        "    # move the model to GPU\n",
        "    batch_features = batch_features.to(device)\n",
        "    batch_labels = batch_labels.to(device)\n",
        "\n",
        "    # forward pass\n",
        "    output = model(batch_features)\n",
        "    loss = criterion(output, batch_labels)\n",
        "\n",
        "    # backward pass\n",
        "    optimizer.zero_grad()\n",
        "    loss.backward()\n",
        "    optimizer.step()\n",
        "\n",
        "    total_epoch_loss += loss.item()\n",
        "\n",
        "  print(f\"Epoch: {epoch+1}, Loss: {total_epoch_loss/len(train_loader)}\")"
      ],
      "metadata": {
        "colab": {
          "base_uri": "https://localhost:8080/"
        },
        "id": "dm0-7cSEbWzw",
        "outputId": "0f6f447b-3e59-4282-fa1e-4ee7697e3f36"
      },
      "execution_count": 28,
      "outputs": [
        {
          "output_type": "stream",
          "name": "stdout",
          "text": [
            "Epoch: 1, Loss: 0.5863301141659418\n",
            "Epoch: 2, Loss: 0.38970447597404323\n",
            "Epoch: 3, Loss: 0.34508937140305834\n",
            "Epoch: 4, Loss: 0.3175976548691591\n",
            "Epoch: 5, Loss: 0.29732017608359457\n",
            "Epoch: 6, Loss: 0.27670126940806705\n",
            "Epoch: 7, Loss: 0.26163435582692424\n",
            "Epoch: 8, Loss: 0.2529649303033948\n",
            "Epoch: 9, Loss: 0.24189080001662175\n",
            "Epoch: 10, Loss: 0.2313888669324418\n",
            "Epoch: 11, Loss: 0.22450893944812317\n",
            "Epoch: 12, Loss: 0.21705436176309983\n",
            "Epoch: 13, Loss: 0.21302719017739097\n",
            "Epoch: 14, Loss: 0.20764232809717456\n",
            "Epoch: 15, Loss: 0.19993171472164492\n",
            "Epoch: 16, Loss: 0.19300458807249865\n",
            "Epoch: 17, Loss: 0.18681095873750747\n",
            "Epoch: 18, Loss: 0.18755717403565844\n",
            "Epoch: 19, Loss: 0.1823848954460894\n",
            "Epoch: 20, Loss: 0.17980982643024376\n",
            "Epoch: 21, Loss: 0.17154527723851304\n",
            "Epoch: 22, Loss: 0.17374505145506314\n",
            "Epoch: 23, Loss: 0.16940087427943945\n",
            "Epoch: 24, Loss: 0.16491933066832523\n",
            "Epoch: 25, Loss: 0.1651654768618755\n",
            "Epoch: 26, Loss: 0.16138617706221217\n",
            "Epoch: 27, Loss: 0.15860941307557125\n",
            "Epoch: 28, Loss: 0.15833587211168682\n",
            "Epoch: 29, Loss: 0.15774922384461387\n",
            "Epoch: 30, Loss: 0.15258928278181702\n",
            "Epoch: 31, Loss: 0.14720294318262797\n",
            "Epoch: 32, Loss: 0.15170468383018548\n",
            "Epoch: 33, Loss: 0.15034482304472477\n",
            "Epoch: 34, Loss: 0.14477746034584318\n",
            "Epoch: 35, Loss: 0.14240184578315043\n",
            "Epoch: 36, Loss: 0.14357242891347657\n",
            "Epoch: 37, Loss: 0.14170274674946753\n",
            "Epoch: 38, Loss: 0.1445291354957347\n",
            "Epoch: 39, Loss: 0.1391087976891237\n",
            "Epoch: 40, Loss: 0.14139546255332727\n",
            "Epoch: 41, Loss: 0.13506411030554832\n",
            "Epoch: 42, Loss: 0.13937216019347154\n",
            "Epoch: 43, Loss: 0.13335800515503313\n",
            "Epoch: 44, Loss: 0.13284899529391744\n",
            "Epoch: 45, Loss: 0.13551898755059422\n",
            "Epoch: 46, Loss: 0.13087956416622426\n",
            "Epoch: 47, Loss: 0.13135791124224974\n",
            "Epoch: 48, Loss: 0.13129891066718846\n",
            "Epoch: 49, Loss: 0.12842895239838012\n",
            "Epoch: 50, Loss: 0.13093123588705202\n",
            "Epoch: 51, Loss: 0.12502976316807327\n",
            "Epoch: 52, Loss: 0.12205218224557272\n",
            "Epoch: 53, Loss: 0.1283880031039783\n",
            "Epoch: 54, Loss: 0.125885960227383\n",
            "Epoch: 55, Loss: 0.12657329339208082\n",
            "Epoch: 56, Loss: 0.12149014031642583\n",
            "Epoch: 57, Loss: 0.12318827090381335\n",
            "Epoch: 58, Loss: 0.12566041157526586\n",
            "Epoch: 59, Loss: 0.11510279765595138\n",
            "Epoch: 60, Loss: 0.1201460294931506\n",
            "Epoch: 61, Loss: 0.12205243938536539\n",
            "Epoch: 62, Loss: 0.11839266513528612\n",
            "Epoch: 63, Loss: 0.11183890875341604\n",
            "Epoch: 64, Loss: 0.11734913636441342\n",
            "Epoch: 65, Loss: 0.11753132092075733\n",
            "Epoch: 66, Loss: 0.11768920360769455\n",
            "Epoch: 67, Loss: 0.11137325010138253\n",
            "Epoch: 68, Loss: 0.11928523720180965\n",
            "Epoch: 69, Loss: 0.11485110712458846\n",
            "Epoch: 70, Loss: 0.11444488982340166\n",
            "Epoch: 71, Loss: 0.11373312696647675\n",
            "Epoch: 72, Loss: 0.1136725686204154\n",
            "Epoch: 73, Loss: 0.1173622410915171\n",
            "Epoch: 74, Loss: 0.11244827849088082\n",
            "Epoch: 75, Loss: 0.11318162091974712\n",
            "Epoch: 76, Loss: 0.11024448635076017\n",
            "Epoch: 77, Loss: 0.11228781871202713\n",
            "Epoch: 78, Loss: 0.1119618745058154\n",
            "Epoch: 79, Loss: 0.11360372593684588\n",
            "Epoch: 80, Loss: 0.10853276396946361\n",
            "Epoch: 81, Loss: 0.1103531361084703\n",
            "Epoch: 82, Loss: 0.10930224678238544\n",
            "Epoch: 83, Loss: 0.10824405361157066\n",
            "Epoch: 84, Loss: 0.11006293631958154\n",
            "Epoch: 85, Loss: 0.10668880249924648\n",
            "Epoch: 86, Loss: 0.11152637951727956\n",
            "Epoch: 87, Loss: 0.11028166371638266\n",
            "Epoch: 88, Loss: 0.10513781201466918\n",
            "Epoch: 89, Loss: 0.1059983255204667\n",
            "Epoch: 90, Loss: 0.10866294228114809\n",
            "Epoch: 91, Loss: 0.10422364376980113\n",
            "Epoch: 92, Loss: 0.10507687855919358\n",
            "Epoch: 93, Loss: 0.10886475098346515\n",
            "Epoch: 94, Loss: 0.10572086718787128\n",
            "Epoch: 95, Loss: 0.10531296710157767\n",
            "Epoch: 96, Loss: 0.10703434714696293\n",
            "Epoch: 97, Loss: 0.10554154647095129\n",
            "Epoch: 98, Loss: 0.10260321474150988\n",
            "Epoch: 99, Loss: 0.10866755491285585\n",
            "Epoch: 100, Loss: 0.1043394395695844\n"
          ]
        }
      ]
    },
    {
      "cell_type": "markdown",
      "source": [
        "# Model evaluation"
      ],
      "metadata": {
        "id": "PeFcKp6ocB5L"
      }
    },
    {
      "cell_type": "code",
      "source": [
        "model.eval()\n",
        "\n",
        "total=0\n",
        "correct=0\n",
        "with torch.no_grad():\n",
        "\n",
        "  for batch_features, batch_labels in test_loader:\n",
        "\n",
        "    # move data to gpu\n",
        "    batch_features, batch_labels = batch_features.to(device), batch_labels.to(device)\n",
        "\n",
        "    outputs = model(batch_features)\n",
        "\n",
        "    _, predicted = torch.max(outputs, 1)\n",
        "\n",
        "    total = total + batch_labels.shape[0]\n",
        "\n",
        "    correct = correct + (predicted == batch_labels).sum().item()\n",
        "\n",
        "print(correct/total)"
      ],
      "metadata": {
        "colab": {
          "base_uri": "https://localhost:8080/"
        },
        "id": "_nOWlYnhcDo-",
        "outputId": "3cbe2e14-d564-40d6-f23a-1bff87066965"
      },
      "execution_count": 31,
      "outputs": [
        {
          "output_type": "stream",
          "name": "stdout",
          "text": [
            "0.9151666666666667\n"
          ]
        }
      ]
    },
    {
      "cell_type": "code",
      "source": [
        "# evaluation on training data\n",
        "total = 0\n",
        "correct = 0\n",
        "\n",
        "with torch.no_grad():\n",
        "\n",
        "  for batch_features, batch_labels in train_loader:\n",
        "\n",
        "    # move data to gpu\n",
        "    batch_features, batch_labels = batch_features.to(device), batch_labels.to(device)\n",
        "\n",
        "    outputs = model(batch_features)\n",
        "\n",
        "    _, predicted = torch.max(outputs, 1)\n",
        "\n",
        "    total = total + batch_labels.shape[0]\n",
        "\n",
        "    correct = correct + (predicted == batch_labels).sum().item()\n",
        "\n",
        "print(correct/total)"
      ],
      "metadata": {
        "colab": {
          "base_uri": "https://localhost:8080/"
        },
        "id": "-nf2_CBsgIRJ",
        "outputId": "a612fe7b-7c3a-4dc1-8e3b-78581791eb23"
      },
      "execution_count": 32,
      "outputs": [
        {
          "output_type": "stream",
          "name": "stdout",
          "text": [
            "0.9799583333333334\n"
          ]
        }
      ]
    },
    {
      "cell_type": "code",
      "source": [],
      "metadata": {
        "id": "2PbVpfF1gaBY"
      },
      "execution_count": null,
      "outputs": []
    }
  ],
  "metadata": {
    "accelerator": "GPU",
    "colab": {
      "gpuType": "T4",
      "provenance": []
    },
    "kernelspec": {
      "display_name": "Python 3",
      "name": "python3"
    },
    "language_info": {
      "name": "python"
    }
  },
  "nbformat": 4,
  "nbformat_minor": 0
}