{
  "nbformat": 4,
  "nbformat_minor": 0,
  "metadata": {
    "colab": {
      "provenance": []
    },
    "kernelspec": {
      "name": "python3",
      "display_name": "Python 3"
    },
    "language_info": {
      "name": "python"
    }
  },
  "cells": [
    {
      "cell_type": "code",
      "source": [
        "from google.colab import drive\n",
        "drive.mount('/content/drive')"
      ],
      "metadata": {
        "colab": {
          "base_uri": "https://localhost:8080/"
        },
        "id": "sXKXct2oVqJM",
        "outputId": "93e3d015-028c-4251-e8a9-20c75eb05e05"
      },
      "execution_count": 1,
      "outputs": [
        {
          "output_type": "stream",
          "name": "stdout",
          "text": [
            "Mounted at /content/drive\n"
          ]
        }
      ]
    },
    {
      "cell_type": "markdown",
      "source": [
        "# Making Custom NN using pytorch"
      ],
      "metadata": {
        "id": "RiwRf_Ep1dvQ"
      }
    },
    {
      "cell_type": "code",
      "source": [
        "import numpy as np\n",
        "import pandas as pd\n",
        "\n",
        "import torch\n",
        "\n",
        "from sklearn.model_selection import train_test_split\n",
        "from sklearn.preprocessing import StandardScaler, LabelEncoder"
      ],
      "metadata": {
        "id": "IgKjEGVybaGb"
      },
      "execution_count": 8,
      "outputs": []
    },
    {
      "cell_type": "markdown",
      "source": [
        "# Getting Dataset"
      ],
      "metadata": {
        "id": "mIELoqC-11UA"
      }
    },
    {
      "cell_type": "code",
      "source": [
        "df = pd.read_csv('https://raw.githubusercontent.com/gscdit/Breast-Cancer-Detection/refs/heads/master/data.csv')\n",
        "df.head()"
      ],
      "metadata": {
        "colab": {
          "base_uri": "https://localhost:8080/",
          "height": 241
        },
        "id": "aDgMUISw10C1",
        "outputId": "60260647-dc88-4167-b8b3-5273131b9615"
      },
      "execution_count": 10,
      "outputs": [
        {
          "output_type": "execute_result",
          "data": {
            "text/plain": [
              "         id diagnosis  radius_mean  ...  symmetry_worst  fractal_dimension_worst  Unnamed: 32\n",
              "0    842302         M        17.99  ...          0.4601                  0.11890          NaN\n",
              "1    842517         M        20.57  ...          0.2750                  0.08902          NaN\n",
              "2  84300903         M        19.69  ...          0.3613                  0.08758          NaN\n",
              "3  84348301         M        11.42  ...          0.6638                  0.17300          NaN\n",
              "4  84358402         M        20.29  ...          0.2364                  0.07678          NaN\n",
              "\n",
              "[5 rows x 33 columns]"
            ],
            "text/html": [
              "\n",
              "  <div id=\"df-6fb0333b-f6ef-4405-aaf5-2ce96bf19883\" class=\"colab-df-container\">\n",
              "    <div>\n",
              "<style scoped>\n",
              "    .dataframe tbody tr th:only-of-type {\n",
              "        vertical-align: middle;\n",
              "    }\n",
              "\n",
              "    .dataframe tbody tr th {\n",
              "        vertical-align: top;\n",
              "    }\n",
              "\n",
              "    .dataframe thead th {\n",
              "        text-align: right;\n",
              "    }\n",
              "</style>\n",
              "<table border=\"1\" class=\"dataframe\">\n",
              "  <thead>\n",
              "    <tr style=\"text-align: right;\">\n",
              "      <th></th>\n",
              "      <th>id</th>\n",
              "      <th>diagnosis</th>\n",
              "      <th>radius_mean</th>\n",
              "      <th>texture_mean</th>\n",
              "      <th>perimeter_mean</th>\n",
              "      <th>area_mean</th>\n",
              "      <th>smoothness_mean</th>\n",
              "      <th>compactness_mean</th>\n",
              "      <th>concavity_mean</th>\n",
              "      <th>concave points_mean</th>\n",
              "      <th>symmetry_mean</th>\n",
              "      <th>fractal_dimension_mean</th>\n",
              "      <th>radius_se</th>\n",
              "      <th>texture_se</th>\n",
              "      <th>perimeter_se</th>\n",
              "      <th>area_se</th>\n",
              "      <th>smoothness_se</th>\n",
              "      <th>compactness_se</th>\n",
              "      <th>concavity_se</th>\n",
              "      <th>concave points_se</th>\n",
              "      <th>symmetry_se</th>\n",
              "      <th>fractal_dimension_se</th>\n",
              "      <th>radius_worst</th>\n",
              "      <th>texture_worst</th>\n",
              "      <th>perimeter_worst</th>\n",
              "      <th>area_worst</th>\n",
              "      <th>smoothness_worst</th>\n",
              "      <th>compactness_worst</th>\n",
              "      <th>concavity_worst</th>\n",
              "      <th>concave points_worst</th>\n",
              "      <th>symmetry_worst</th>\n",
              "      <th>fractal_dimension_worst</th>\n",
              "      <th>Unnamed: 32</th>\n",
              "    </tr>\n",
              "  </thead>\n",
              "  <tbody>\n",
              "    <tr>\n",
              "      <th>0</th>\n",
              "      <td>842302</td>\n",
              "      <td>M</td>\n",
              "      <td>17.99</td>\n",
              "      <td>10.38</td>\n",
              "      <td>122.80</td>\n",
              "      <td>1001.0</td>\n",
              "      <td>0.11840</td>\n",
              "      <td>0.27760</td>\n",
              "      <td>0.3001</td>\n",
              "      <td>0.14710</td>\n",
              "      <td>0.2419</td>\n",
              "      <td>0.07871</td>\n",
              "      <td>1.0950</td>\n",
              "      <td>0.9053</td>\n",
              "      <td>8.589</td>\n",
              "      <td>153.40</td>\n",
              "      <td>0.006399</td>\n",
              "      <td>0.04904</td>\n",
              "      <td>0.05373</td>\n",
              "      <td>0.01587</td>\n",
              "      <td>0.03003</td>\n",
              "      <td>0.006193</td>\n",
              "      <td>25.38</td>\n",
              "      <td>17.33</td>\n",
              "      <td>184.60</td>\n",
              "      <td>2019.0</td>\n",
              "      <td>0.1622</td>\n",
              "      <td>0.6656</td>\n",
              "      <td>0.7119</td>\n",
              "      <td>0.2654</td>\n",
              "      <td>0.4601</td>\n",
              "      <td>0.11890</td>\n",
              "      <td>NaN</td>\n",
              "    </tr>\n",
              "    <tr>\n",
              "      <th>1</th>\n",
              "      <td>842517</td>\n",
              "      <td>M</td>\n",
              "      <td>20.57</td>\n",
              "      <td>17.77</td>\n",
              "      <td>132.90</td>\n",
              "      <td>1326.0</td>\n",
              "      <td>0.08474</td>\n",
              "      <td>0.07864</td>\n",
              "      <td>0.0869</td>\n",
              "      <td>0.07017</td>\n",
              "      <td>0.1812</td>\n",
              "      <td>0.05667</td>\n",
              "      <td>0.5435</td>\n",
              "      <td>0.7339</td>\n",
              "      <td>3.398</td>\n",
              "      <td>74.08</td>\n",
              "      <td>0.005225</td>\n",
              "      <td>0.01308</td>\n",
              "      <td>0.01860</td>\n",
              "      <td>0.01340</td>\n",
              "      <td>0.01389</td>\n",
              "      <td>0.003532</td>\n",
              "      <td>24.99</td>\n",
              "      <td>23.41</td>\n",
              "      <td>158.80</td>\n",
              "      <td>1956.0</td>\n",
              "      <td>0.1238</td>\n",
              "      <td>0.1866</td>\n",
              "      <td>0.2416</td>\n",
              "      <td>0.1860</td>\n",
              "      <td>0.2750</td>\n",
              "      <td>0.08902</td>\n",
              "      <td>NaN</td>\n",
              "    </tr>\n",
              "    <tr>\n",
              "      <th>2</th>\n",
              "      <td>84300903</td>\n",
              "      <td>M</td>\n",
              "      <td>19.69</td>\n",
              "      <td>21.25</td>\n",
              "      <td>130.00</td>\n",
              "      <td>1203.0</td>\n",
              "      <td>0.10960</td>\n",
              "      <td>0.15990</td>\n",
              "      <td>0.1974</td>\n",
              "      <td>0.12790</td>\n",
              "      <td>0.2069</td>\n",
              "      <td>0.05999</td>\n",
              "      <td>0.7456</td>\n",
              "      <td>0.7869</td>\n",
              "      <td>4.585</td>\n",
              "      <td>94.03</td>\n",
              "      <td>0.006150</td>\n",
              "      <td>0.04006</td>\n",
              "      <td>0.03832</td>\n",
              "      <td>0.02058</td>\n",
              "      <td>0.02250</td>\n",
              "      <td>0.004571</td>\n",
              "      <td>23.57</td>\n",
              "      <td>25.53</td>\n",
              "      <td>152.50</td>\n",
              "      <td>1709.0</td>\n",
              "      <td>0.1444</td>\n",
              "      <td>0.4245</td>\n",
              "      <td>0.4504</td>\n",
              "      <td>0.2430</td>\n",
              "      <td>0.3613</td>\n",
              "      <td>0.08758</td>\n",
              "      <td>NaN</td>\n",
              "    </tr>\n",
              "    <tr>\n",
              "      <th>3</th>\n",
              "      <td>84348301</td>\n",
              "      <td>M</td>\n",
              "      <td>11.42</td>\n",
              "      <td>20.38</td>\n",
              "      <td>77.58</td>\n",
              "      <td>386.1</td>\n",
              "      <td>0.14250</td>\n",
              "      <td>0.28390</td>\n",
              "      <td>0.2414</td>\n",
              "      <td>0.10520</td>\n",
              "      <td>0.2597</td>\n",
              "      <td>0.09744</td>\n",
              "      <td>0.4956</td>\n",
              "      <td>1.1560</td>\n",
              "      <td>3.445</td>\n",
              "      <td>27.23</td>\n",
              "      <td>0.009110</td>\n",
              "      <td>0.07458</td>\n",
              "      <td>0.05661</td>\n",
              "      <td>0.01867</td>\n",
              "      <td>0.05963</td>\n",
              "      <td>0.009208</td>\n",
              "      <td>14.91</td>\n",
              "      <td>26.50</td>\n",
              "      <td>98.87</td>\n",
              "      <td>567.7</td>\n",
              "      <td>0.2098</td>\n",
              "      <td>0.8663</td>\n",
              "      <td>0.6869</td>\n",
              "      <td>0.2575</td>\n",
              "      <td>0.6638</td>\n",
              "      <td>0.17300</td>\n",
              "      <td>NaN</td>\n",
              "    </tr>\n",
              "    <tr>\n",
              "      <th>4</th>\n",
              "      <td>84358402</td>\n",
              "      <td>M</td>\n",
              "      <td>20.29</td>\n",
              "      <td>14.34</td>\n",
              "      <td>135.10</td>\n",
              "      <td>1297.0</td>\n",
              "      <td>0.10030</td>\n",
              "      <td>0.13280</td>\n",
              "      <td>0.1980</td>\n",
              "      <td>0.10430</td>\n",
              "      <td>0.1809</td>\n",
              "      <td>0.05883</td>\n",
              "      <td>0.7572</td>\n",
              "      <td>0.7813</td>\n",
              "      <td>5.438</td>\n",
              "      <td>94.44</td>\n",
              "      <td>0.011490</td>\n",
              "      <td>0.02461</td>\n",
              "      <td>0.05688</td>\n",
              "      <td>0.01885</td>\n",
              "      <td>0.01756</td>\n",
              "      <td>0.005115</td>\n",
              "      <td>22.54</td>\n",
              "      <td>16.67</td>\n",
              "      <td>152.20</td>\n",
              "      <td>1575.0</td>\n",
              "      <td>0.1374</td>\n",
              "      <td>0.2050</td>\n",
              "      <td>0.4000</td>\n",
              "      <td>0.1625</td>\n",
              "      <td>0.2364</td>\n",
              "      <td>0.07678</td>\n",
              "      <td>NaN</td>\n",
              "    </tr>\n",
              "  </tbody>\n",
              "</table>\n",
              "</div>\n",
              "    <div class=\"colab-df-buttons\">\n",
              "\n",
              "  <div class=\"colab-df-container\">\n",
              "    <button class=\"colab-df-convert\" onclick=\"convertToInteractive('df-6fb0333b-f6ef-4405-aaf5-2ce96bf19883')\"\n",
              "            title=\"Convert this dataframe to an interactive table.\"\n",
              "            style=\"display:none;\">\n",
              "\n",
              "  <svg xmlns=\"http://www.w3.org/2000/svg\" height=\"24px\" viewBox=\"0 -960 960 960\">\n",
              "    <path d=\"M120-120v-720h720v720H120Zm60-500h600v-160H180v160Zm220 220h160v-160H400v160Zm0 220h160v-160H400v160ZM180-400h160v-160H180v160Zm440 0h160v-160H620v160ZM180-180h160v-160H180v160Zm440 0h160v-160H620v160Z\"/>\n",
              "  </svg>\n",
              "    </button>\n",
              "\n",
              "  <style>\n",
              "    .colab-df-container {\n",
              "      display:flex;\n",
              "      gap: 12px;\n",
              "    }\n",
              "\n",
              "    .colab-df-convert {\n",
              "      background-color: #E8F0FE;\n",
              "      border: none;\n",
              "      border-radius: 50%;\n",
              "      cursor: pointer;\n",
              "      display: none;\n",
              "      fill: #1967D2;\n",
              "      height: 32px;\n",
              "      padding: 0 0 0 0;\n",
              "      width: 32px;\n",
              "    }\n",
              "\n",
              "    .colab-df-convert:hover {\n",
              "      background-color: #E2EBFA;\n",
              "      box-shadow: 0px 1px 2px rgba(60, 64, 67, 0.3), 0px 1px 3px 1px rgba(60, 64, 67, 0.15);\n",
              "      fill: #174EA6;\n",
              "    }\n",
              "\n",
              "    .colab-df-buttons div {\n",
              "      margin-bottom: 4px;\n",
              "    }\n",
              "\n",
              "    [theme=dark] .colab-df-convert {\n",
              "      background-color: #3B4455;\n",
              "      fill: #D2E3FC;\n",
              "    }\n",
              "\n",
              "    [theme=dark] .colab-df-convert:hover {\n",
              "      background-color: #434B5C;\n",
              "      box-shadow: 0px 1px 3px 1px rgba(0, 0, 0, 0.15);\n",
              "      filter: drop-shadow(0px 1px 2px rgba(0, 0, 0, 0.3));\n",
              "      fill: #FFFFFF;\n",
              "    }\n",
              "  </style>\n",
              "\n",
              "    <script>\n",
              "      const buttonEl =\n",
              "        document.querySelector('#df-6fb0333b-f6ef-4405-aaf5-2ce96bf19883 button.colab-df-convert');\n",
              "      buttonEl.style.display =\n",
              "        google.colab.kernel.accessAllowed ? 'block' : 'none';\n",
              "\n",
              "      async function convertToInteractive(key) {\n",
              "        const element = document.querySelector('#df-6fb0333b-f6ef-4405-aaf5-2ce96bf19883');\n",
              "        const dataTable =\n",
              "          await google.colab.kernel.invokeFunction('convertToInteractive',\n",
              "                                                    [key], {});\n",
              "        if (!dataTable) return;\n",
              "\n",
              "        const docLinkHtml = 'Like what you see? Visit the ' +\n",
              "          '<a target=\"_blank\" href=https://colab.research.google.com/notebooks/data_table.ipynb>data table notebook</a>'\n",
              "          + ' to learn more about interactive tables.';\n",
              "        element.innerHTML = '';\n",
              "        dataTable['output_type'] = 'display_data';\n",
              "        await google.colab.output.renderOutput(dataTable, element);\n",
              "        const docLink = document.createElement('div');\n",
              "        docLink.innerHTML = docLinkHtml;\n",
              "        element.appendChild(docLink);\n",
              "      }\n",
              "    </script>\n",
              "  </div>\n",
              "\n",
              "\n",
              "<div id=\"df-5f50dcfe-09f9-480a-b62a-5af52bc23835\">\n",
              "  <button class=\"colab-df-quickchart\" onclick=\"quickchart('df-5f50dcfe-09f9-480a-b62a-5af52bc23835')\"\n",
              "            title=\"Suggest charts\"\n",
              "            style=\"display:none;\">\n",
              "\n",
              "<svg xmlns=\"http://www.w3.org/2000/svg\" height=\"24px\"viewBox=\"0 0 24 24\"\n",
              "     width=\"24px\">\n",
              "    <g>\n",
              "        <path d=\"M19 3H5c-1.1 0-2 .9-2 2v14c0 1.1.9 2 2 2h14c1.1 0 2-.9 2-2V5c0-1.1-.9-2-2-2zM9 17H7v-7h2v7zm4 0h-2V7h2v10zm4 0h-2v-4h2v4z\"/>\n",
              "    </g>\n",
              "</svg>\n",
              "  </button>\n",
              "\n",
              "<style>\n",
              "  .colab-df-quickchart {\n",
              "      --bg-color: #E8F0FE;\n",
              "      --fill-color: #1967D2;\n",
              "      --hover-bg-color: #E2EBFA;\n",
              "      --hover-fill-color: #174EA6;\n",
              "      --disabled-fill-color: #AAA;\n",
              "      --disabled-bg-color: #DDD;\n",
              "  }\n",
              "\n",
              "  [theme=dark] .colab-df-quickchart {\n",
              "      --bg-color: #3B4455;\n",
              "      --fill-color: #D2E3FC;\n",
              "      --hover-bg-color: #434B5C;\n",
              "      --hover-fill-color: #FFFFFF;\n",
              "      --disabled-bg-color: #3B4455;\n",
              "      --disabled-fill-color: #666;\n",
              "  }\n",
              "\n",
              "  .colab-df-quickchart {\n",
              "    background-color: var(--bg-color);\n",
              "    border: none;\n",
              "    border-radius: 50%;\n",
              "    cursor: pointer;\n",
              "    display: none;\n",
              "    fill: var(--fill-color);\n",
              "    height: 32px;\n",
              "    padding: 0;\n",
              "    width: 32px;\n",
              "  }\n",
              "\n",
              "  .colab-df-quickchart:hover {\n",
              "    background-color: var(--hover-bg-color);\n",
              "    box-shadow: 0 1px 2px rgba(60, 64, 67, 0.3), 0 1px 3px 1px rgba(60, 64, 67, 0.15);\n",
              "    fill: var(--button-hover-fill-color);\n",
              "  }\n",
              "\n",
              "  .colab-df-quickchart-complete:disabled,\n",
              "  .colab-df-quickchart-complete:disabled:hover {\n",
              "    background-color: var(--disabled-bg-color);\n",
              "    fill: var(--disabled-fill-color);\n",
              "    box-shadow: none;\n",
              "  }\n",
              "\n",
              "  .colab-df-spinner {\n",
              "    border: 2px solid var(--fill-color);\n",
              "    border-color: transparent;\n",
              "    border-bottom-color: var(--fill-color);\n",
              "    animation:\n",
              "      spin 1s steps(1) infinite;\n",
              "  }\n",
              "\n",
              "  @keyframes spin {\n",
              "    0% {\n",
              "      border-color: transparent;\n",
              "      border-bottom-color: var(--fill-color);\n",
              "      border-left-color: var(--fill-color);\n",
              "    }\n",
              "    20% {\n",
              "      border-color: transparent;\n",
              "      border-left-color: var(--fill-color);\n",
              "      border-top-color: var(--fill-color);\n",
              "    }\n",
              "    30% {\n",
              "      border-color: transparent;\n",
              "      border-left-color: var(--fill-color);\n",
              "      border-top-color: var(--fill-color);\n",
              "      border-right-color: var(--fill-color);\n",
              "    }\n",
              "    40% {\n",
              "      border-color: transparent;\n",
              "      border-right-color: var(--fill-color);\n",
              "      border-top-color: var(--fill-color);\n",
              "    }\n",
              "    60% {\n",
              "      border-color: transparent;\n",
              "      border-right-color: var(--fill-color);\n",
              "    }\n",
              "    80% {\n",
              "      border-color: transparent;\n",
              "      border-right-color: var(--fill-color);\n",
              "      border-bottom-color: var(--fill-color);\n",
              "    }\n",
              "    90% {\n",
              "      border-color: transparent;\n",
              "      border-bottom-color: var(--fill-color);\n",
              "    }\n",
              "  }\n",
              "</style>\n",
              "\n",
              "  <script>\n",
              "    async function quickchart(key) {\n",
              "      const quickchartButtonEl =\n",
              "        document.querySelector('#' + key + ' button');\n",
              "      quickchartButtonEl.disabled = true;  // To prevent multiple clicks.\n",
              "      quickchartButtonEl.classList.add('colab-df-spinner');\n",
              "      try {\n",
              "        const charts = await google.colab.kernel.invokeFunction(\n",
              "            'suggestCharts', [key], {});\n",
              "      } catch (error) {\n",
              "        console.error('Error during call to suggestCharts:', error);\n",
              "      }\n",
              "      quickchartButtonEl.classList.remove('colab-df-spinner');\n",
              "      quickchartButtonEl.classList.add('colab-df-quickchart-complete');\n",
              "    }\n",
              "    (() => {\n",
              "      let quickchartButtonEl =\n",
              "        document.querySelector('#df-5f50dcfe-09f9-480a-b62a-5af52bc23835 button');\n",
              "      quickchartButtonEl.style.display =\n",
              "        google.colab.kernel.accessAllowed ? 'block' : 'none';\n",
              "    })();\n",
              "  </script>\n",
              "</div>\n",
              "\n",
              "    </div>\n",
              "  </div>\n"
            ],
            "application/vnd.google.colaboratory.intrinsic+json": {
              "type": "dataframe",
              "variable_name": "df"
            }
          },
          "metadata": {},
          "execution_count": 10
        }
      ]
    },
    {
      "cell_type": "code",
      "source": [
        "df.shape"
      ],
      "metadata": {
        "colab": {
          "base_uri": "https://localhost:8080/"
        },
        "id": "yXXko-NI2Hho",
        "outputId": "45bb626b-87fd-469e-ba21-90be5ac1571b"
      },
      "execution_count": 12,
      "outputs": [
        {
          "output_type": "execute_result",
          "data": {
            "text/plain": [
              "(569, 33)"
            ]
          },
          "metadata": {},
          "execution_count": 12
        }
      ]
    },
    {
      "cell_type": "code",
      "source": [
        "df.drop(['Unnamed: 32', 'id'], axis=1, inplace=True)"
      ],
      "metadata": {
        "id": "ujfdSGXd2K-A"
      },
      "execution_count": 14,
      "outputs": []
    },
    {
      "cell_type": "markdown",
      "source": [
        "# Data Splitting, Scaling and Label Encoding"
      ],
      "metadata": {
        "id": "A8GwdnTh2y0y"
      }
    },
    {
      "cell_type": "code",
      "source": [
        "train_x, test_x, train_y, test_y = train_test_split(df.drop(['diagnosis'], axis=1), df['diagnosis'], test_size=0.2, random_state=42)\n",
        "\n",
        "scaler = StandardScaler()\n",
        "train_x = scaler.fit_transform(train_x)\n",
        "test_x = scaler.transform(test_x)\n",
        "\n",
        "encoder = LabelEncoder()\n",
        "train_y = encoder.fit_transform(train_y)\n",
        "test_y = encoder.transform(test_y)"
      ],
      "metadata": {
        "id": "nEWTlcnk2T6X"
      },
      "execution_count": 18,
      "outputs": []
    },
    {
      "cell_type": "markdown",
      "source": [
        "# Conversion from numpy to pytorch"
      ],
      "metadata": {
        "id": "-T_he99I3X3J"
      }
    },
    {
      "cell_type": "code",
      "source": [
        "train_x = torch.from_numpy(train_x.astype(np.float32))\n",
        "test_x = torch.from_numpy(test_x.astype(np.float32))\n",
        "train_y = torch.from_numpy(train_y.astype(np.float32))\n",
        "test_y = torch.from_numpy(test_y.astype(np.float32))"
      ],
      "metadata": {
        "id": "m1q5_L4-2r3S"
      },
      "execution_count": 21,
      "outputs": []
    },
    {
      "cell_type": "code",
      "source": [
        "train_x.shape"
      ],
      "metadata": {
        "colab": {
          "base_uri": "https://localhost:8080/"
        },
        "id": "RUaPeITg3fpo",
        "outputId": "a551a5c4-3883-4038-dd40-24e4b4622638"
      },
      "execution_count": 22,
      "outputs": [
        {
          "output_type": "execute_result",
          "data": {
            "text/plain": [
              "torch.Size([455, 30])"
            ]
          },
          "metadata": {},
          "execution_count": 22
        }
      ]
    },
    {
      "cell_type": "markdown",
      "source": [
        "# Model building"
      ],
      "metadata": {
        "id": "HUeBT3L84QVK"
      }
    },
    {
      "cell_type": "code",
      "source": [
        "class MySimpleNN():\n",
        "  def __init__(self, x):\n",
        "    self.weight = torch.rand(x.shape[1], 1, dtype=torch.float32, requires_grad=True)\n",
        "    self.bias = torch.rand(1, dtype=torch.float32, requires_grad=True)\n",
        "\n",
        "  def forward(self, x):\n",
        "    return torch.sigmoid(torch.matmul(x, self.weight) + self.bias)\n",
        "\n",
        "  def loss_function(self, y_pred, y):\n",
        "    # Clamp predictions to avoid log(0)\n",
        "    epsilon = 1e-7\n",
        "    y_pred = torch.clamp(y_pred, epsilon, 1 - epsilon)\n",
        "\n",
        "    # Calculate loss\n",
        "    loss = -(train_y * torch.log(y_pred) + (1 - train_y) * torch.log(1 - y_pred)).mean()\n",
        "    return loss"
      ],
      "metadata": {
        "id": "P1I4UXgu3g8G"
      },
      "execution_count": 31,
      "outputs": []
    },
    {
      "cell_type": "markdown",
      "source": [
        "# Important Parameter"
      ],
      "metadata": {
        "id": "LHy0glei6bgj"
      }
    },
    {
      "cell_type": "code",
      "source": [
        "leaning_rate = 0.1\n",
        "epochs = 100"
      ],
      "metadata": {
        "id": "vYBxFBoW6JSH"
      },
      "execution_count": 32,
      "outputs": []
    },
    {
      "cell_type": "markdown",
      "source": [
        "# Training Pipeline"
      ],
      "metadata": {
        "id": "EUPC7cHr6ps3"
      }
    },
    {
      "cell_type": "code",
      "source": [
        "model = MySimpleNN(train_x)\n",
        "\n",
        "for epoch in range(epochs):\n",
        "  # Foreword Propagation\n",
        "  y_pred = model.forward(train_x)\n",
        "\n",
        "  # Loss Calculation\n",
        "  loss = model.loss_function(y_pred, train_y)\n",
        "\n",
        "  # backword Pass\n",
        "  loss.backward()\n",
        "\n",
        "\n",
        "  # Parameter Updates\n",
        "  with torch.no_grad():\n",
        "    model.weight -= leaning_rate * model.weight.grad\n",
        "    model.bias -= leaning_rate * model.bias.grad\n",
        "\n",
        "  # Zero Gradient\n",
        "  model.weight.grad.zero_()\n",
        "  model.bias.grad.zero_()\n",
        "\n",
        "  print(f'Epoch: {epoch+1}, Loss: {loss.item()}')"
      ],
      "metadata": {
        "colab": {
          "base_uri": "https://localhost:8080/"
        },
        "id": "tTGRl5VP6osU",
        "outputId": "006b30bc-6378-4e77-c10e-ca82ee0b04cd"
      },
      "execution_count": 33,
      "outputs": [
        {
          "output_type": "stream",
          "name": "stdout",
          "text": [
            "Epoch: 1, Loss: 3.571039915084839\n",
            "Epoch: 2, Loss: 3.4399924278259277\n",
            "Epoch: 3, Loss: 3.307166337966919\n",
            "Epoch: 4, Loss: 3.17425799369812\n",
            "Epoch: 5, Loss: 3.0364809036254883\n",
            "Epoch: 6, Loss: 2.8943138122558594\n",
            "Epoch: 7, Loss: 2.745234251022339\n",
            "Epoch: 8, Loss: 2.585635185241699\n",
            "Epoch: 9, Loss: 2.4228148460388184\n",
            "Epoch: 10, Loss: 2.2554879188537598\n",
            "Epoch: 11, Loss: 2.0898404121398926\n",
            "Epoch: 12, Loss: 1.9256515502929688\n",
            "Epoch: 13, Loss: 1.768455982208252\n",
            "Epoch: 14, Loss: 1.617266058921814\n",
            "Epoch: 15, Loss: 1.469307780265808\n",
            "Epoch: 16, Loss: 1.3361629247665405\n",
            "Epoch: 17, Loss: 1.215718388557434\n",
            "Epoch: 18, Loss: 1.1143109798431396\n",
            "Epoch: 19, Loss: 1.0319530963897705\n",
            "Epoch: 20, Loss: 0.9672772288322449\n",
            "Epoch: 21, Loss: 0.9180248379707336\n",
            "Epoch: 22, Loss: 0.8813595771789551\n",
            "Epoch: 23, Loss: 0.8543918132781982\n",
            "Epoch: 24, Loss: 0.8345235586166382\n",
            "Epoch: 25, Loss: 0.8196316957473755\n",
            "Epoch: 26, Loss: 0.8081129789352417\n",
            "Epoch: 27, Loss: 0.7988329529762268\n",
            "Epoch: 28, Loss: 0.791031002998352\n",
            "Epoch: 29, Loss: 0.784220278263092\n",
            "Epoch: 30, Loss: 0.7780991196632385\n",
            "Epoch: 31, Loss: 0.7724849581718445\n",
            "Epoch: 32, Loss: 0.7672677636146545\n",
            "Epoch: 33, Loss: 0.7623800039291382\n",
            "Epoch: 34, Loss: 0.7577791810035706\n",
            "Epoch: 35, Loss: 0.7534365057945251\n",
            "Epoch: 36, Loss: 0.7493306398391724\n",
            "Epoch: 37, Loss: 0.7454453110694885\n",
            "Epoch: 38, Loss: 0.7417666912078857\n",
            "Epoch: 39, Loss: 0.7382823824882507\n",
            "Epoch: 40, Loss: 0.7349812984466553\n",
            "Epoch: 41, Loss: 0.7318531274795532\n",
            "Epoch: 42, Loss: 0.7288880944252014\n",
            "Epoch: 43, Loss: 0.7260770201683044\n",
            "Epoch: 44, Loss: 0.7234114408493042\n",
            "Epoch: 45, Loss: 0.7208829522132874\n",
            "Epoch: 46, Loss: 0.7184840440750122\n",
            "Epoch: 47, Loss: 0.7162072658538818\n",
            "Epoch: 48, Loss: 0.7140457630157471\n",
            "Epoch: 49, Loss: 0.7119932174682617\n",
            "Epoch: 50, Loss: 0.7100432515144348\n",
            "Epoch: 51, Loss: 0.7081902623176575\n",
            "Epoch: 52, Loss: 0.7064288258552551\n",
            "Epoch: 53, Loss: 0.7047538757324219\n",
            "Epoch: 54, Loss: 0.7031604647636414\n",
            "Epoch: 55, Loss: 0.7016441226005554\n",
            "Epoch: 56, Loss: 0.7002007365226746\n",
            "Epoch: 57, Loss: 0.698826253414154\n",
            "Epoch: 58, Loss: 0.697516918182373\n",
            "Epoch: 59, Loss: 0.6962690949440002\n",
            "Epoch: 60, Loss: 0.6950796246528625\n",
            "Epoch: 61, Loss: 0.6939453482627869\n",
            "Epoch: 62, Loss: 0.6928632855415344\n",
            "Epoch: 63, Loss: 0.691830575466156\n",
            "Epoch: 64, Loss: 0.6908447742462158\n",
            "Epoch: 65, Loss: 0.6899033188819885\n",
            "Epoch: 66, Loss: 0.6890039443969727\n",
            "Epoch: 67, Loss: 0.6881445646286011\n",
            "Epoch: 68, Loss: 0.6873229146003723\n",
            "Epoch: 69, Loss: 0.6865372657775879\n",
            "Epoch: 70, Loss: 0.685785710811615\n",
            "Epoch: 71, Loss: 0.6850664019584656\n",
            "Epoch: 72, Loss: 0.6843777894973755\n",
            "Epoch: 73, Loss: 0.6837184429168701\n",
            "Epoch: 74, Loss: 0.6830867528915405\n",
            "Epoch: 75, Loss: 0.6824815273284912\n",
            "Epoch: 76, Loss: 0.6819013357162476\n",
            "Epoch: 77, Loss: 0.6813448071479797\n",
            "Epoch: 78, Loss: 0.6808110475540161\n",
            "Epoch: 79, Loss: 0.6802988648414612\n",
            "Epoch: 80, Loss: 0.6798070669174194\n",
            "Epoch: 81, Loss: 0.6793349385261536\n",
            "Epoch: 82, Loss: 0.6788814067840576\n",
            "Epoch: 83, Loss: 0.6784455180168152\n",
            "Epoch: 84, Loss: 0.678026556968689\n",
            "Epoch: 85, Loss: 0.6776236891746521\n",
            "Epoch: 86, Loss: 0.6772360801696777\n",
            "Epoch: 87, Loss: 0.6768630743026733\n",
            "Epoch: 88, Loss: 0.6765040159225464\n",
            "Epoch: 89, Loss: 0.6761583685874939\n",
            "Epoch: 90, Loss: 0.675825297832489\n",
            "Epoch: 91, Loss: 0.6755043268203735\n",
            "Epoch: 92, Loss: 0.675195038318634\n",
            "Epoch: 93, Loss: 0.6748965978622437\n",
            "Epoch: 94, Loss: 0.6746087670326233\n",
            "Epoch: 95, Loss: 0.67433100938797\n",
            "Epoch: 96, Loss: 0.6740629076957703\n",
            "Epoch: 97, Loss: 0.673803985118866\n",
            "Epoch: 98, Loss: 0.6735538244247437\n",
            "Epoch: 99, Loss: 0.6733121275901794\n",
            "Epoch: 100, Loss: 0.6730784177780151\n"
          ]
        }
      ]
    },
    {
      "cell_type": "markdown",
      "source": [
        "# Model Evaluation"
      ],
      "metadata": {
        "id": "Grauf7ow8rkb"
      }
    },
    {
      "cell_type": "code",
      "source": [
        "with torch.no_grad():\n",
        "  y_pred = model.forward(test_x)\n",
        "  y_pred = (y_pred > 0.9).float()\n",
        "  accuracy = (y_pred == test_y).float().mean()\n",
        "  print(f'Accuracy: {accuracy.item()}')"
      ],
      "metadata": {
        "colab": {
          "base_uri": "https://localhost:8080/"
        },
        "id": "dGCkR9sP7glk",
        "outputId": "8386c4c3-16fa-47e1-fcc0-eb7221f3597a"
      },
      "execution_count": 35,
      "outputs": [
        {
          "output_type": "stream",
          "name": "stdout",
          "text": [
            "Accuracy: 0.6228070259094238\n"
          ]
        }
      ]
    },
    {
      "cell_type": "code",
      "source": [],
      "metadata": {
        "id": "5mWAxQyH8lpn"
      },
      "execution_count": null,
      "outputs": []
    }
  ]
}